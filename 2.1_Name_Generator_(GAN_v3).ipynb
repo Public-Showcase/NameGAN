{
  "cells": [
    {
      "cell_type": "markdown",
      "metadata": {
        "id": "DZt8BYKhyHVF"
      },
      "source": [
        "# Name Generator\n",
        "GAN  \n",
        "v_alpha3"
      ]
    },
    {
      "cell_type": "markdown",
      "metadata": {
        "id": "tK1RHhcGyKEA"
      },
      "source": [
        "attempt: 3.  \n",
        "modified time: 20 Apr 2023, 3:30 PM"
      ]
    },
    {
      "cell_type": "code",
      "execution_count": null,
      "metadata": {
        "id": "xcc7qSofqCb7"
      },
      "outputs": [],
      "source": [
        "import pandas as pd\n",
        "import torch\n",
        "import sklearn\n",
        "import matplotlib.pyplot as plt\n",
        "import numpy as np\n"
      ]
    },
    {
      "cell_type": "markdown",
      "metadata": {
        "id": "w0KUpIGgyiIX"
      },
      "source": [
        "## Data Preprocessing"
      ]
    },
    {
      "cell_type": "code",
      "execution_count": null,
      "metadata": {
        "colab": {
          "base_uri": "https://localhost:8080/"
        },
        "id": "TJLRg8z8gV3I",
        "outputId": "20dea954-4bd5-4b33-c6ec-016b159fe02d"
      },
      "outputs": [
        {
          "data": {
            "text/plain": [
              "('good_data.csv', <http.client.HTTPMessage at 0x7fd2ca9b6670>)"
            ]
          },
          "execution_count": 3,
          "metadata": {},
          "output_type": "execute_result"
        }
      ],
      "source": [
        "# Downloading the preprossed CSV file\n",
        "\n",
        "import urllib.request\n",
        "\n",
        "url = ENV(\"CSV_URL\")\n",
        "filename = 'good_data.csv'\n",
        "\n",
        "urllib.request.urlretrieve(url, filename)\n"
      ]
    },
    {
      "cell_type": "code",
      "execution_count": null,
      "metadata": {
        "colab": {
          "base_uri": "https://localhost:8080/",
          "height": 250
        },
        "id": "qsDxpNhwqIvF",
        "outputId": "4549a4e0-81bf-4250-9be4-e81d93f3ea69"
      },
      "outputs": [
        {
          "data": {
            "text/html": [
              "\n",
              "  <div id=\"df-d6bf17c6-5822-4fe7-8835-82b1de5cfe0d\">\n",
              "    <div class=\"colab-df-container\">\n",
              "      <div>\n",
              "<style scoped>\n",
              "    .dataframe tbody tr th:only-of-type {\n",
              "        vertical-align: middle;\n",
              "    }\n",
              "\n",
              "    .dataframe tbody tr th {\n",
              "        vertical-align: top;\n",
              "    }\n",
              "\n",
              "    .dataframe thead th {\n",
              "        text-align: right;\n",
              "    }\n",
              "</style>\n",
              "<table border=\"1\" class=\"dataframe\">\n",
              "  <thead>\n",
              "    <tr style=\"text-align: right;\">\n",
              "      <th></th>\n",
              "      <th>first_name</th>\n",
              "      <th>last_name</th>\n",
              "      <th>birth_date</th>\n",
              "      <th>birth_place_state</th>\n",
              "      <th>birth_place_country</th>\n",
              "      <th>father_first_name</th>\n",
              "      <th>father_last_name</th>\n",
              "      <th>mother_first_name</th>\n",
              "      <th>mother_last_name</th>\n",
              "      <th>gender</th>\n",
              "      <th>ethnicity</th>\n",
              "    </tr>\n",
              "  </thead>\n",
              "  <tbody>\n",
              "    <tr>\n",
              "      <th>0</th>\n",
              "      <td>Cole</td>\n",
              "      <td>Hauser</td>\n",
              "      <td>1975-3-22</td>\n",
              "      <td>California</td>\n",
              "      <td>USA</td>\n",
              "      <td>Cass</td>\n",
              "      <td>Warner</td>\n",
              "      <td>Wings</td>\n",
              "      <td>Hauser</td>\n",
              "      <td>m</td>\n",
              "      <td>None</td>\n",
              "    </tr>\n",
              "    <tr>\n",
              "      <th>1</th>\n",
              "      <td>Christian</td>\n",
              "      <td>Bale</td>\n",
              "      <td>1974-1-30</td>\n",
              "      <td>Wales</td>\n",
              "      <td>UK</td>\n",
              "      <td>Jennifer</td>\n",
              "      <td>(James)</td>\n",
              "      <td>NaN</td>\n",
              "      <td>NaN</td>\n",
              "      <td>m</td>\n",
              "      <td>None</td>\n",
              "    </tr>\n",
              "    <tr>\n",
              "      <th>2</th>\n",
              "      <td>NaN</td>\n",
              "      <td>NaN</td>\n",
              "      <td>1987-2-9</td>\n",
              "      <td>California</td>\n",
              "      <td>USA</td>\n",
              "      <td>Donna</td>\n",
              "      <td>(Davis)</td>\n",
              "      <td>Michael</td>\n",
              "      <td>Jordan</td>\n",
              "      <td>m</td>\n",
              "      <td>None</td>\n",
              "    </tr>\n",
              "    <tr>\n",
              "      <th>3</th>\n",
              "      <td>Nick</td>\n",
              "      <td>Offerman</td>\n",
              "      <td>1970-6-26</td>\n",
              "      <td>Illinois</td>\n",
              "      <td>USA</td>\n",
              "      <td>Cathy</td>\n",
              "      <td>Roberts</td>\n",
              "      <td>Ric</td>\n",
              "      <td>Offerman</td>\n",
              "      <td>m</td>\n",
              "      <td>None</td>\n",
              "    </tr>\n",
              "    <tr>\n",
              "      <th>4</th>\n",
              "      <td>Alexander</td>\n",
              "      <td>Skarsgård</td>\n",
              "      <td>1976-8-25</td>\n",
              "      <td>Stockholms län</td>\n",
              "      <td>Sweden</td>\n",
              "      <td>Stellan</td>\n",
              "      <td>Skarsgård</td>\n",
              "      <td>My</td>\n",
              "      <td>Skarsgård</td>\n",
              "      <td>m</td>\n",
              "      <td>None</td>\n",
              "    </tr>\n",
              "  </tbody>\n",
              "</table>\n",
              "</div>\n",
              "      <button class=\"colab-df-convert\" onclick=\"convertToInteractive('df-d6bf17c6-5822-4fe7-8835-82b1de5cfe0d')\"\n",
              "              title=\"Convert this dataframe to an interactive table.\"\n",
              "              style=\"display:none;\">\n",
              "        \n",
              "  <svg xmlns=\"http://www.w3.org/2000/svg\" height=\"24px\"viewBox=\"0 0 24 24\"\n",
              "       width=\"24px\">\n",
              "    <path d=\"M0 0h24v24H0V0z\" fill=\"none\"/>\n",
              "    <path d=\"M18.56 5.44l.94 2.06.94-2.06 2.06-.94-2.06-.94-.94-2.06-.94 2.06-2.06.94zm-11 1L8.5 8.5l.94-2.06 2.06-.94-2.06-.94L8.5 2.5l-.94 2.06-2.06.94zm10 10l.94 2.06.94-2.06 2.06-.94-2.06-.94-.94-2.06-.94 2.06-2.06.94z\"/><path d=\"M17.41 7.96l-1.37-1.37c-.4-.4-.92-.59-1.43-.59-.52 0-1.04.2-1.43.59L10.3 9.45l-7.72 7.72c-.78.78-.78 2.05 0 2.83L4 21.41c.39.39.9.59 1.41.59.51 0 1.02-.2 1.41-.59l7.78-7.78 2.81-2.81c.8-.78.8-2.07 0-2.86zM5.41 20L4 18.59l7.72-7.72 1.47 1.35L5.41 20z\"/>\n",
              "  </svg>\n",
              "      </button>\n",
              "      \n",
              "  <style>\n",
              "    .colab-df-container {\n",
              "      display:flex;\n",
              "      flex-wrap:wrap;\n",
              "      gap: 12px;\n",
              "    }\n",
              "\n",
              "    .colab-df-convert {\n",
              "      background-color: #E8F0FE;\n",
              "      border: none;\n",
              "      border-radius: 50%;\n",
              "      cursor: pointer;\n",
              "      display: none;\n",
              "      fill: #1967D2;\n",
              "      height: 32px;\n",
              "      padding: 0 0 0 0;\n",
              "      width: 32px;\n",
              "    }\n",
              "\n",
              "    .colab-df-convert:hover {\n",
              "      background-color: #E2EBFA;\n",
              "      box-shadow: 0px 1px 2px rgba(60, 64, 67, 0.3), 0px 1px 3px 1px rgba(60, 64, 67, 0.15);\n",
              "      fill: #174EA6;\n",
              "    }\n",
              "\n",
              "    [theme=dark] .colab-df-convert {\n",
              "      background-color: #3B4455;\n",
              "      fill: #D2E3FC;\n",
              "    }\n",
              "\n",
              "    [theme=dark] .colab-df-convert:hover {\n",
              "      background-color: #434B5C;\n",
              "      box-shadow: 0px 1px 3px 1px rgba(0, 0, 0, 0.15);\n",
              "      filter: drop-shadow(0px 1px 2px rgba(0, 0, 0, 0.3));\n",
              "      fill: #FFFFFF;\n",
              "    }\n",
              "  </style>\n",
              "\n",
              "      <script>\n",
              "        const buttonEl =\n",
              "          document.querySelector('#df-d6bf17c6-5822-4fe7-8835-82b1de5cfe0d button.colab-df-convert');\n",
              "        buttonEl.style.display =\n",
              "          google.colab.kernel.accessAllowed ? 'block' : 'none';\n",
              "\n",
              "        async function convertToInteractive(key) {\n",
              "          const element = document.querySelector('#df-d6bf17c6-5822-4fe7-8835-82b1de5cfe0d');\n",
              "          const dataTable =\n",
              "            await google.colab.kernel.invokeFunction('convertToInteractive',\n",
              "                                                     [key], {});\n",
              "          if (!dataTable) return;\n",
              "\n",
              "          const docLinkHtml = 'Like what you see? Visit the ' +\n",
              "            '<a target=\"_blank\" href=https://colab.research.google.com/notebooks/data_table.ipynb>data table notebook</a>'\n",
              "            + ' to learn more about interactive tables.';\n",
              "          element.innerHTML = '';\n",
              "          dataTable['output_type'] = 'display_data';\n",
              "          await google.colab.output.renderOutput(dataTable, element);\n",
              "          const docLink = document.createElement('div');\n",
              "          docLink.innerHTML = docLinkHtml;\n",
              "          element.appendChild(docLink);\n",
              "        }\n",
              "      </script>\n",
              "    </div>\n",
              "  </div>\n",
              "  "
            ],
            "text/plain": [
              "  first_name  last_name birth_date birth_place_state birth_place_country  \\\n",
              "0       Cole     Hauser  1975-3-22        California                 USA   \n",
              "1  Christian       Bale  1974-1-30             Wales                  UK   \n",
              "2        NaN        NaN   1987-2-9        California                 USA   \n",
              "3       Nick   Offerman  1970-6-26          Illinois                 USA   \n",
              "4  Alexander  Skarsgård  1976-8-25    Stockholms län              Sweden   \n",
              "\n",
              "  father_first_name father_last_name mother_first_name mother_last_name  \\\n",
              "0              Cass           Warner             Wings           Hauser   \n",
              "1          Jennifer          (James)               NaN              NaN   \n",
              "2             Donna          (Davis)           Michael           Jordan   \n",
              "3             Cathy          Roberts               Ric         Offerman   \n",
              "4           Stellan        Skarsgård                My        Skarsgård   \n",
              "\n",
              "  gender ethnicity  \n",
              "0      m      None  \n",
              "1      m      None  \n",
              "2      m      None  \n",
              "3      m      None  \n",
              "4      m      None  "
            ]
          },
          "execution_count": 4,
          "metadata": {},
          "output_type": "execute_result"
        }
      ],
      "source": [
        "df = pd.read_csv(filename)\n",
        "df.head()"
      ]
    },
    {
      "cell_type": "code",
      "execution_count": null,
      "metadata": {
        "colab": {
          "base_uri": "https://localhost:8080/"
        },
        "id": "PjO2CN7Ofn97",
        "outputId": "47d7fbc7-bc08-442d-9075-0129737231ca"
      },
      "outputs": [
        {
          "data": {
            "text/plain": [
              "0         Cole\n",
              "1    Christian\n",
              "2          NaN\n",
              "3         Nick\n",
              "4    Alexander\n",
              "Name: first_name, dtype: object"
            ]
          },
          "execution_count": 5,
          "metadata": {},
          "output_type": "execute_result"
        }
      ],
      "source": [
        "names = df['first_name']\n",
        "names.head()"
      ]
    },
    {
      "cell_type": "code",
      "execution_count": null,
      "metadata": {
        "colab": {
          "base_uri": "https://localhost:8080/"
        },
        "id": "coTdh276fs8R",
        "outputId": "317a92f7-8eab-4d6f-cdf8-b5af588ee6dd"
      },
      "outputs": [
        {
          "data": {
            "text/plain": [
              "48436"
            ]
          },
          "execution_count": 6,
          "metadata": {},
          "output_type": "execute_result"
        }
      ],
      "source": [
        "len(names)"
      ]
    },
    {
      "cell_type": "markdown",
      "metadata": {
        "id": "K0v0ClWLyt85"
      },
      "source": [
        "### Temp Dataset\n",
        "\n",
        "Right now, only training the model using first names, only 1 feature.   \n",
        "Later it will be trained on all features like gender, oarent's names, etc."
      ]
    },
    {
      "cell_type": "code",
      "execution_count": null,
      "metadata": {
        "colab": {
          "base_uri": "https://localhost:8080/"
        },
        "id": "on_ytd36fvzF",
        "outputId": "9c9f4801-1548-4859-ff64-3bd3d6f52543"
      },
      "outputs": [
        {
          "data": {
            "text/plain": [
              "(48436,\n",
              " 0             Cole\n",
              " 1        Christian\n",
              " 2              NaN\n",
              " 3             Nick\n",
              " 4        Alexander\n",
              "            ...    \n",
              " 48431          Aoi\n",
              " 48432        Maria\n",
              " 48433        Mandy\n",
              " 48434         Jane\n",
              " 48435    Treshelle\n",
              " Name: first_name, Length: 48436, dtype: object)"
            ]
          },
          "execution_count": 7,
          "metadata": {},
          "output_type": "execute_result"
        }
      ],
      "source": [
        "input = names #[0:1000]\n",
        "len(input), input"
      ]
    },
    {
      "cell_type": "code",
      "execution_count": null,
      "metadata": {
        "colab": {
          "base_uri": "https://localhost:8080/"
        },
        "id": "YDZIstGgmb-o",
        "outputId": "3b415999-ec53-4cf9-dd8c-affbcec82515"
      },
      "outputs": [
        {
          "data": {
            "text/plain": [
              "array(['Cole', 'Christian', nan, 'Nick', 'Alexander'], dtype=object)"
            ]
          },
          "execution_count": 8,
          "metadata": {},
          "output_type": "execute_result"
        }
      ],
      "source": [
        "input.values[0:5]"
      ]
    },
    {
      "cell_type": "code",
      "execution_count": null,
      "metadata": {
        "colab": {
          "base_uri": "https://localhost:8080/"
        },
        "id": "MxelYRUNrUDJ",
        "outputId": "ee24599e-60e4-40ca-b3d3-9a5edf0608e6"
      },
      "outputs": [
        {
          "data": {
            "text/plain": [
              "str"
            ]
          },
          "execution_count": 9,
          "metadata": {},
          "output_type": "execute_result"
        }
      ],
      "source": [
        "type('john')"
      ]
    },
    {
      "cell_type": "code",
      "execution_count": null,
      "metadata": {
        "colab": {
          "base_uri": "https://localhost:8080/"
        },
        "id": "oWozfLdEqkcx",
        "outputId": "391dac7a-6eae-4c3a-8a13-075bf16b90f1"
      },
      "outputs": [
        {
          "data": {
            "text/plain": [
              "['Cole', 'Christian', 'Nick', 'Alexander', 'Pedro']"
            ]
          },
          "execution_count": 10,
          "metadata": {},
          "output_type": "execute_result"
        }
      ],
      "source": [
        "# removing nan(!= Null) values from the names\n",
        "\n",
        "clean_input = []\n",
        "\n",
        "for name in input:\n",
        "  if name != 'NaN' and name != 'nan' and type(name) == str:\n",
        "    clean_input.append(name)\n",
        "\n",
        "clean_input[0:5]"
      ]
    },
    {
      "cell_type": "code",
      "execution_count": null,
      "metadata": {
        "id": "hxfgXx1sZFQY"
      },
      "outputs": [],
      "source": [
        "def string2OrdArr(name):\n",
        "  \"\"\"\n",
        "  Given a string, it returns a array with it's characters' ordinal values\n",
        "  \"\"\"\n",
        "  res = []\n",
        "  for c in name:\n",
        "    res.append(ord(c))\n",
        "  \n",
        "  return res\n"
      ]
    },
    {
      "cell_type": "code",
      "execution_count": null,
      "metadata": {
        "colab": {
          "base_uri": "https://localhost:8080/"
        },
        "id": "0TV9xeN7Zq_y",
        "outputId": "fc64d977-8b6e-400d-fc15-8989c9d4428f"
      },
      "outputs": [
        {
          "data": {
            "text/plain": [
              "[68, 97, 118, 105, 100]"
            ]
          },
          "execution_count": 12,
          "metadata": {},
          "output_type": "execute_result"
        }
      ],
      "source": [
        "string2OrdArr('David')"
      ]
    },
    {
      "cell_type": "code",
      "execution_count": null,
      "metadata": {
        "colab": {
          "base_uri": "https://localhost:8080/",
          "height": 35
        },
        "id": "xa8KGzApZteL",
        "outputId": "e3d66410-f5eb-4b8d-f448-b27ae8be6a42"
      },
      "outputs": [
        {
          "data": {
            "application/vnd.google.colaboratory.intrinsic+json": {
              "type": "string"
            },
            "text/plain": [
              "'D'"
            ]
          },
          "execution_count": 13,
          "metadata": {},
          "output_type": "execute_result"
        }
      ],
      "source": [
        "# converting ordinal values back to character\n",
        "\n",
        "chr(68)"
      ]
    },
    {
      "cell_type": "code",
      "execution_count": null,
      "metadata": {
        "colab": {
          "base_uri": "https://localhost:8080/"
        },
        "id": "2YGa7-Jaae3x",
        "outputId": "aa0196e5-7fe5-45d4-c4a5-f5913d8c55f8"
      },
      "outputs": [
        {
          "data": {
            "text/plain": [
              "32"
            ]
          },
          "execution_count": 14,
          "metadata": {},
          "output_type": "execute_result"
        }
      ],
      "source": [
        "ord(' ')"
      ]
    },
    {
      "cell_type": "code",
      "execution_count": null,
      "metadata": {
        "colab": {
          "base_uri": "https://localhost:8080/"
        },
        "id": "NH5v1_gDj3kv",
        "outputId": "b9d91489-e66b-4dda-fe6e-811d73790d68"
      },
      "outputs": [
        {
          "data": {
            "text/plain": [
              "(65, 97, 90, 122)"
            ]
          },
          "execution_count": 15,
          "metadata": {},
          "output_type": "execute_result"
        }
      ],
      "source": [
        "ord('A'), ord('a'), ord('Z'), ord('z')"
      ]
    },
    {
      "cell_type": "code",
      "execution_count": null,
      "metadata": {
        "colab": {
          "base_uri": "https://localhost:8080/"
        },
        "id": "NAUwqZ9EkZee",
        "outputId": "de716c48-ca93-4ee7-f12e-9e34fc4186f0"
      },
      "outputs": [
        {
          "data": {
            "text/plain": [
              "[32, 65, 66, 67, 68]"
            ]
          },
          "execution_count": 16,
          "metadata": {},
          "output_type": "execute_result"
        }
      ],
      "source": [
        "# Defining valid Alphabatical ordinal values\n",
        "\n",
        "valid_ord_vals = [32] # for ' '\n",
        "valid_ord_vals += [i for i in range(65, 90+1)]\n",
        "valid_ord_vals += [i for i in range(97, 122+1)]\n",
        "valid_ord_vals[0:5]"
      ]
    },
    {
      "cell_type": "code",
      "execution_count": null,
      "metadata": {
        "id": "aYsta3SXkqWL"
      },
      "outputs": [],
      "source": [
        "# for o in valid_ord_vals:\n",
        "#   print(chr(o))"
      ]
    },
    {
      "cell_type": "code",
      "execution_count": null,
      "metadata": {
        "colab": {
          "base_uri": "https://localhost:8080/"
        },
        "id": "Ivd-tw6aasSg",
        "outputId": "8daf28c2-bfae-4f5c-ce4b-7b7de4cb1ae2"
      },
      "outputs": [
        {
          "data": {
            "text/plain": [
              "15.0"
            ]
          },
          "execution_count": 18,
          "metadata": {},
          "output_type": "execute_result"
        }
      ],
      "source": [
        "MAX_NAME_LEN = names.str.len().max() # Maximum length in the values of the name\n",
        "MAX_NAME_LEN"
      ]
    },
    {
      "cell_type": "markdown",
      "metadata": {
        "id": "sBk6fP4DbhGa"
      },
      "source": [
        "### Creating custom Name encoder and decoder"
      ]
    },
    {
      "cell_type": "code",
      "execution_count": null,
      "metadata": {
        "colab": {
          "base_uri": "https://localhost:8080/"
        },
        "id": "3qLHOCgOct3J",
        "outputId": "12adcb8f-82e5-4fc7-b07c-897ee47f261f"
      },
      "outputs": [
        {
          "data": {
            "text/plain": [
              "['ds', 32, 32, 32]"
            ]
          },
          "execution_count": 19,
          "metadata": {},
          "output_type": "execute_result"
        }
      ],
      "source": [
        "['ds']+[32]*3"
      ]
    },
    {
      "cell_type": "code",
      "execution_count": null,
      "metadata": {
        "id": "J6jsW5-4bQO0"
      },
      "outputs": [],
      "source": [
        "def nameEncorder(name, max_len=MAX_NAME_LEN):\n",
        "  \"\"\"\n",
        "  Given name string, it returns array of ordinals with length of MAX_NAME_LEN(here 15), by appending extra white space at the end\n",
        "  \"\"\"\n",
        "  res = []\n",
        "  for c in name:\n",
        "    res.append(ord(c))\n",
        "  \n",
        "  res += [32] * (int(max_len) - len(name)) # ord(' '))\n",
        "  \n",
        "  return res\n"
      ]
    },
    {
      "cell_type": "code",
      "execution_count": null,
      "metadata": {
        "colab": {
          "base_uri": "https://localhost:8080/"
        },
        "id": "L5W4fNsGc-hz",
        "outputId": "b9c68f6b-002d-4f0d-df0c-e62e7255b2a9"
      },
      "outputs": [
        {
          "data": {
            "text/plain": [
              "[68, 97, 118, 105, 100, 32, 32, 32, 32, 32, 32, 32, 32, 32, 32]"
            ]
          },
          "execution_count": 21,
          "metadata": {},
          "output_type": "execute_result"
        }
      ],
      "source": [
        "david_encoded = nameEncorder('David')\n",
        "david_encoded"
      ]
    },
    {
      "cell_type": "code",
      "execution_count": null,
      "metadata": {
        "id": "_3Bojal9dBZc"
      },
      "outputs": [],
      "source": [
        "def nameDecoder(name_ord_arr, max_len=MAX_NAME_LEN):\n",
        "  \"\"\"\n",
        "  Given encoded names array, it returns name string in alphabets\n",
        "  \"\"\"\n",
        "  res = \"\"\n",
        "  for o in name_ord_arr:\n",
        "    if o != 32:\n",
        "      res += chr(o)\n",
        "    else:\n",
        "      break\n",
        "  \n",
        "  return res"
      ]
    },
    {
      "cell_type": "code",
      "execution_count": null,
      "metadata": {
        "id": "0zKPrJByiq5J"
      },
      "outputs": [],
      "source": [
        "# defining ordinal values range\n",
        "\n",
        "ORD_RANGE_MIN = 0\n",
        "ORD_RANGE_MIN = 1,114,111"
      ]
    },
    {
      "cell_type": "code",
      "execution_count": null,
      "metadata": {
        "colab": {
          "base_uri": "https://localhost:8080/",
          "height": 35
        },
        "id": "oAzKGrW8dw1C",
        "outputId": "48c44497-f5f5-4f7d-9c08-d50e0f05be90"
      },
      "outputs": [
        {
          "data": {
            "application/vnd.google.colaboratory.intrinsic+json": {
              "type": "string"
            },
            "text/plain": [
              "'David'"
            ]
          },
          "execution_count": 24,
          "metadata": {},
          "output_type": "execute_result"
        }
      ],
      "source": [
        "nameDecoder(david_encoded)"
      ]
    },
    {
      "cell_type": "code",
      "execution_count": null,
      "metadata": {
        "colab": {
          "base_uri": "https://localhost:8080/"
        },
        "id": "dxd-h3drgnj7",
        "outputId": "a462a045-7430-4775-b672-326d4f911c31"
      },
      "outputs": [
        {
          "data": {
            "text/plain": [
              "[[67, 111, 108, 101, 32, 32, 32, 32, 32, 32, 32, 32, 32, 32, 32],\n",
              " [67, 104, 114, 105, 115, 116, 105, 97, 110, 32, 32, 32, 32, 32, 32],\n",
              " [78, 105, 99, 107, 32, 32, 32, 32, 32, 32, 32, 32, 32, 32, 32],\n",
              " [65, 108, 101, 120, 97, 110, 100, 101, 114, 32, 32, 32, 32, 32, 32],\n",
              " [80, 101, 100, 114, 111, 32, 32, 32, 32, 32, 32, 32, 32, 32, 32]]"
            ]
          },
          "execution_count": 25,
          "metadata": {},
          "output_type": "execute_result"
        }
      ],
      "source": [
        "encoded_names = [nameEncorder(name) for name in clean_input]\n",
        "encoded_names[:5]"
      ]
    },
    {
      "cell_type": "markdown",
      "metadata": {
        "id": "hnlWc6y21ncM"
      },
      "source": [
        "### Normalizing the data"
      ]
    },
    {
      "cell_type": "code",
      "execution_count": null,
      "metadata": {
        "id": "nNhrn4iPlFl5"
      },
      "outputs": [],
      "source": [
        "# normalizing input data\n",
        "\n",
        "from sklearn.preprocessing import MinMaxScaler\n",
        "\n",
        "scaler = MinMaxScaler()\n",
        "\n",
        "scaler.fit(encoded_names)\n",
        "\n",
        "# Normalize the input data\n",
        "input_norm = scaler.transform(encoded_names)\n"
      ]
    },
    {
      "cell_type": "code",
      "execution_count": null,
      "metadata": {
        "colab": {
          "base_uri": "https://localhost:8080/"
        },
        "id": "WfdYjwALnc2v",
        "outputId": "e7810690-43cf-42d8-95a6-c43d052361a9"
      },
      "outputs": [
        {
          "data": {
            "text/plain": [
              "((15,),\n",
              " array([0.08484848, 0.35909091, 0.34703196, 0.31363636, 0.        ,\n",
              "        0.        , 0.        , 0.        , 0.        , 0.        ,\n",
              "        0.        , 0.        , 0.        , 0.        , 0.        ]))"
            ]
          },
          "execution_count": 27,
          "metadata": {},
          "output_type": "execute_result"
        }
      ],
      "source": [
        "input_norm[0].shape, input_norm[0]"
      ]
    },
    {
      "cell_type": "code",
      "execution_count": null,
      "metadata": {
        "colab": {
          "base_uri": "https://localhost:8080/"
        },
        "id": "ib3QA2rNB_wy",
        "outputId": "f01eb482-53c3-469d-fc2f-a928172fa24a"
      },
      "outputs": [
        {
          "data": {
            "text/plain": [
              "tensor([[ 67., 111., 108.,  ...,  32.,  32.,  32.],\n",
              "        [ 67., 104., 114.,  ...,  32.,  32.,  32.],\n",
              "        [ 78., 105.,  99.,  ...,  32.,  32.,  32.],\n",
              "        ...,\n",
              "        [ 77.,  97., 110.,  ...,  32.,  32.,  32.],\n",
              "        [ 74.,  97., 110.,  ...,  32.,  32.,  32.],\n",
              "        [ 84., 114., 101.,  ...,  32.,  32.,  32.]])"
            ]
          },
          "execution_count": 28,
          "metadata": {},
          "output_type": "execute_result"
        }
      ],
      "source": [
        "# Creating tensor of encoded names\n",
        "\n",
        "encoded_names = torch.tensor(encoded_names, dtype=torch.float32)\n",
        "encoded_names"
      ]
    },
    {
      "cell_type": "code",
      "execution_count": null,
      "metadata": {
        "colab": {
          "base_uri": "https://localhost:8080/"
        },
        "id": "LRuUUBVtCZtv",
        "outputId": "952aee4c-99f3-4f52-f57d-fd416fd4f589"
      },
      "outputs": [
        {
          "data": {
            "text/plain": [
              "torch.float32"
            ]
          },
          "execution_count": 29,
          "metadata": {},
          "output_type": "execute_result"
        }
      ],
      "source": [
        "encoded_names.dtype"
      ]
    },
    {
      "cell_type": "code",
      "execution_count": null,
      "metadata": {
        "id": "c4UfB-4xCs4S"
      },
      "outputs": [],
      "source": [
        "BATCH_SIZE = 100"
      ]
    },
    {
      "cell_type": "code",
      "execution_count": null,
      "metadata": {
        "id": "DJt7NpkhCDUa"
      },
      "outputs": [],
      "source": [
        "# Creating data loader for training\n",
        "\n",
        "from torch.utils.data import Dataset, DataLoader\n",
        "\n",
        "train_dl = name_dataloader = DataLoader(encoded_names, batch_size=BATCH_SIZE, shuffle=True)\n"
      ]
    },
    {
      "cell_type": "code",
      "execution_count": null,
      "metadata": {
        "colab": {
          "base_uri": "https://localhost:8080/"
        },
        "id": "n5wieEzsCeP2",
        "outputId": "37064c56-1e91-4047-cfe5-4f02dcab8247"
      },
      "outputs": [
        {
          "name": "stdout",
          "output_type": "stream",
          "text": [
            "X batch Shape torch.Size([100, 15])\n"
          ]
        }
      ],
      "source": [
        "for xb in train_dl:\n",
        "  print(\"X batch Shape\", xb.shape)\n",
        "  break"
      ]
    },
    {
      "cell_type": "markdown",
      "metadata": {
        "id": "3LY3PxFqmopT"
      },
      "source": [
        "### Using GPU (if available)"
      ]
    },
    {
      "cell_type": "code",
      "execution_count": null,
      "metadata": {
        "id": "OepY4mU1mtLs"
      },
      "outputs": [],
      "source": [
        "def get_default_device():\n",
        "    \"\"\"Pick GPU if available, else CPU\"\"\"\n",
        "    if torch.cuda.is_available():\n",
        "        return torch.device('cuda')\n",
        "    else:\n",
        "        return torch.device('cpu')\n",
        "    \n",
        "def to_device(data, device):\n",
        "    \"\"\"Move tensor(s) to chosen device\"\"\"\n",
        "    if isinstance(data, (list,tuple)):\n",
        "        return [to_device(x, device) for x in data]\n",
        "    return data.to(device, non_blocking=True)\n",
        "\n",
        "def which_device(data):\n",
        "  \"\"\"Returns the device name in which the data is stored\"\"\"\n",
        "  return \"Cuda\" if data.get_device() == -1 else \"CPU\"\n",
        "\n",
        "class DeviceDataLoader():\n",
        "    \"\"\"Wrap a dataloader to move data to a device\"\"\"\n",
        "    def __init__(self, dl, device):\n",
        "        self.dl = dl\n",
        "        self.device = device\n",
        "        \n",
        "    def __iter__(self):\n",
        "        \"\"\"Yield a batch of data after moving it to device\"\"\"\n",
        "        for b in self.dl: \n",
        "            yield to_device(b, self.device)\n",
        "\n",
        "    def __len__(self):\n",
        "        \"\"\"Number of batches\"\"\"\n",
        "        return len(self.dl)"
      ]
    },
    {
      "cell_type": "code",
      "execution_count": null,
      "metadata": {
        "colab": {
          "base_uri": "https://localhost:8080/"
        },
        "id": "UV2tAM_smzTg",
        "outputId": "c25b2549-f91e-4efb-a390-bbdd46d5852c"
      },
      "outputs": [
        {
          "data": {
            "text/plain": [
              "device(type='cuda')"
            ]
          },
          "execution_count": 34,
          "metadata": {},
          "output_type": "execute_result"
        }
      ],
      "source": [
        "device = get_default_device()\n",
        "device # Cuda is NVedia GPU driver"
      ]
    },
    {
      "cell_type": "code",
      "execution_count": null,
      "metadata": {
        "id": "FcXxWip8m8Z4"
      },
      "outputs": [],
      "source": [
        "# moving train data loader to GPU if available\n",
        "train_dl = DeviceDataLoader(train_dl, device)"
      ]
    },
    {
      "cell_type": "markdown",
      "metadata": {
        "id": "9N_UjEyVe72I"
      },
      "source": [
        "## Building Deep Neural Network architecture"
      ]
    },
    {
      "cell_type": "markdown",
      "metadata": {
        "id": "kmR9ePAP2AtN"
      },
      "source": [
        "### Discriminator\n",
        "\n",
        "input - 15, \n",
        "20, 30, 40, 35, 20, 10, 5, \n",
        "output - 1 (0/1 - Real/Fake)"
      ]
    },
    {
      "cell_type": "code",
      "execution_count": null,
      "metadata": {
        "id": "cJK1xgMVd1MD"
      },
      "outputs": [],
      "source": [
        "import torch.nn as nn"
      ]
    },
    {
      "cell_type": "code",
      "execution_count": null,
      "metadata": {
        "id": "qwWD2Mg9fj9y"
      },
      "outputs": [],
      "source": [
        "discriminator = nn.Sequential(\n",
        "    nn.Linear(15, 20, device=device),\n",
        "    nn.ReLU(),\n",
        "\n",
        "    nn.Linear(20, 30, device=device),\n",
        "    nn.ReLU(),\n",
        "\n",
        "    nn.Linear(30, 10, device=device),\n",
        "    nn.ReLU(),\n",
        "\n",
        "    nn.Linear(10, 5, device=device),\n",
        "    nn.ReLU(),\n",
        "\n",
        "    nn.Linear(5, 1, device=device),\n",
        "\n",
        "    nn.Sigmoid()\n",
        "  )"
      ]
    },
    {
      "cell_type": "code",
      "execution_count": null,
      "metadata": {
        "colab": {
          "base_uri": "https://localhost:8080/"
        },
        "id": "6UsrF9_fF8bg",
        "outputId": "d9aa631b-fe93-44a1-8959-9875ea05cf23"
      },
      "outputs": [
        {
          "data": {
            "text/plain": [
              "Sequential(\n",
              "  (0): Linear(in_features=15, out_features=20, bias=True)\n",
              "  (1): ReLU()\n",
              "  (2): Linear(in_features=20, out_features=30, bias=True)\n",
              "  (3): ReLU()\n",
              "  (4): Linear(in_features=30, out_features=10, bias=True)\n",
              "  (5): ReLU()\n",
              "  (6): Linear(in_features=10, out_features=5, bias=True)\n",
              "  (7): ReLU()\n",
              "  (8): Linear(in_features=5, out_features=1, bias=True)\n",
              "  (9): Sigmoid()\n",
              ")"
            ]
          },
          "execution_count": 38,
          "metadata": {},
          "output_type": "execute_result"
        }
      ],
      "source": [
        "discriminator.float()"
      ]
    },
    {
      "cell_type": "code",
      "execution_count": null,
      "metadata": {
        "id": "tm8IUroqnXbs"
      },
      "outputs": [],
      "source": [
        "# Moving Discriminator to GPU\n",
        "discriminator = to_device(discriminator, device)\n"
      ]
    },
    {
      "cell_type": "markdown",
      "metadata": {
        "id": "TJZQ4MZ38DI0"
      },
      "source": [
        "### Generator"
      ]
    },
    {
      "cell_type": "code",
      "execution_count": null,
      "metadata": {
        "id": "J-VqdU4dgFsF"
      },
      "outputs": [],
      "source": [
        "latent_size = 15"
      ]
    },
    {
      "cell_type": "code",
      "execution_count": null,
      "metadata": {
        "id": "0xH7SS58gJKd"
      },
      "outputs": [],
      "source": [
        "generator = nn.Sequential(\n",
        "    nn.Linear(15, 20, device=device),\n",
        "    nn.ReLU(),\n",
        "\n",
        "    nn.Linear(20, 30, device=device),\n",
        "    nn.ReLU(),\n",
        "\n",
        "    nn.Linear(30, 20, device=device),\n",
        "    nn.ReLU(),\n",
        "\n",
        "    nn.Linear(20, 15, device=device),\n",
        "    nn.Tanh()\n",
        ")"
      ]
    },
    {
      "cell_type": "code",
      "execution_count": null,
      "metadata": {
        "id": "mEEYoh4cGCe2"
      },
      "outputs": [],
      "source": [
        "# generator.float()"
      ]
    },
    {
      "cell_type": "code",
      "execution_count": null,
      "metadata": {
        "id": "UUEeFNb8nf7I"
      },
      "outputs": [],
      "source": [
        "# Moving Generator to GPU\n",
        "generator = to_device(generator, device)\n"
      ]
    },
    {
      "cell_type": "code",
      "execution_count": null,
      "metadata": {
        "colab": {
          "base_uri": "https://localhost:8080/"
        },
        "id": "pRfEwhjdgiMD",
        "outputId": "56ed35c8-14eb-4bb1-ba79-b2a576650435"
      },
      "outputs": [
        {
          "name": "stdout",
          "output_type": "stream",
          "text": [
            "torch.Size([15])\n"
          ]
        },
        {
          "data": {
            "text/plain": [
              "tensor([-0.1727, -0.0312, -0.0135,  0.0445,  0.2521,  0.1895, -0.1003, -0.2175,\n",
              "         0.1153, -0.1985, -0.1744,  0.1369, -0.2012, -0.0904,  0.0525],\n",
              "       device='cuda:0', grad_fn=<TanhBackward0>)"
            ]
          },
          "execution_count": 44,
          "metadata": {},
          "output_type": "execute_result"
        }
      ],
      "source": [
        "xb = torch.randn(latent_size, device=device) # random latent tensors\n",
        "fake_names = generator(xb)\n",
        "print(fake_names.shape)\n",
        "fake_names"
      ]
    },
    {
      "cell_type": "markdown",
      "metadata": {
        "id": "nBbxt9gG9TKj"
      },
      "source": [
        "### New Name Generator function"
      ]
    },
    {
      "cell_type": "code",
      "execution_count": null,
      "metadata": {
        "id": "jT_yevUjhA7t"
      },
      "outputs": [],
      "source": [
        "import math\n",
        "\n",
        "def generate_new_name():\n",
        "  xb = torch.randn(latent_size, device=device) # random latent tensors\n",
        "  fake_name = generator(xb) # Generating new name\n",
        "  output_denorm = scaler.inverse_transform([fake_name.cpu().detach().numpy()]) # de-normalizing\n",
        "\n",
        "  # Convert the output data back to characters using chr\n",
        "  output_chars = []\n",
        "\n",
        "  for x in output_denorm[0]:\n",
        "    # preprocessing x\n",
        "    x = int(x)\n",
        "    x = abs(x)\n",
        "    x = math.ceil(x)\n",
        "\n",
        "    if x in valid_ord_vals:\n",
        "      output_chars.append(chr(x))\n",
        "    else:\n",
        "      output_chars.append(' ')\n",
        "\n",
        "  # Convert the list of characters back to a string\n",
        "  output_str = ''.join(output_chars)\n",
        "  print(\"Generated new name: \", output_str)\n",
        "  return output_str\n"
      ]
    },
    {
      "cell_type": "code",
      "execution_count": null,
      "metadata": {
        "colab": {
          "base_uri": "https://localhost:8080/",
          "height": 52
        },
        "id": "Wy8RzcTi9GpP",
        "outputId": "472347f1-f2c2-48d2-de59-443f66dd4018"
      },
      "outputs": [
        {
          "name": "stdout",
          "output_type": "stream",
          "text": [
            "Generated new name:      SQ         \n"
          ]
        },
        {
          "data": {
            "application/vnd.google.colaboratory.intrinsic+json": {
              "type": "string"
            },
            "text/plain": [
              "'    SQ         '"
            ]
          },
          "execution_count": 46,
          "metadata": {},
          "output_type": "execute_result"
        }
      ],
      "source": [
        "generate_new_name()"
      ]
    },
    {
      "cell_type": "markdown",
      "metadata": {
        "id": "r5VOKPnitH4t"
      },
      "source": [
        "## Training the GAN Model"
      ]
    },
    {
      "cell_type": "markdown",
      "metadata": {
        "id": "uYF7Hunh96K4"
      },
      "source": [
        "### Discriminator Train function"
      ]
    },
    {
      "cell_type": "code",
      "execution_count": null,
      "metadata": {
        "id": "UptPUh6Thfda"
      },
      "outputs": [],
      "source": [
        "# Training the Discriminator\n",
        "\n",
        "import torch.nn.functional as F\n",
        "\n",
        "def train_discriminator(real_name, opt_d):\n",
        "    opt_d.zero_grad() # Clear discriminator gradients\n",
        "\n",
        "    # Pass real names through discriminator\n",
        "    real_name = to_device(real_name, device)\n",
        "    real_pred = discriminator(real_name)\n",
        "    real_target = torch.ones(1, device=device) # 1=Real, 0=Fake\n",
        "\n",
        "    real_loss = F.binary_cross_entropy(real_pred, real_target)\n",
        "    real_score = torch.mean(real_pred).item()\n",
        "    \n",
        "    # Generate fake name\n",
        "    latent = torch.randn(latent_size, device=device)\n",
        "    fake_name = generator(latent)\n",
        "\n",
        "    # Pass fake name through discriminator\n",
        "    fake_target = torch.zeros(1, device=device)\n",
        "    fake_pred = discriminator(fake_name)\n",
        "    fake_loss = F.binary_cross_entropy(fake_pred, fake_target)\n",
        "    fake_score = torch.mean(fake_pred).item()\n",
        "\n",
        "    # Update discriminator weights\n",
        "    loss = real_loss + fake_loss\n",
        "    loss.backward()\n",
        "    opt_d.step()\n",
        "\n",
        "    return loss.item(), real_score, fake_score"
      ]
    },
    {
      "cell_type": "markdown",
      "metadata": {
        "id": "gdAG0pYR9-Pn"
      },
      "source": [
        "### Generator train function"
      ]
    },
    {
      "cell_type": "code",
      "execution_count": null,
      "metadata": {
        "id": "7OPKH9B7p-je"
      },
      "outputs": [],
      "source": [
        "def train_generator(opt_g):\n",
        "    opt_g.zero_grad() # Clear generator gradients\n",
        "    \n",
        "    # Generate fake name\n",
        "    latent = torch.randn(latent_size, device=device)\n",
        "    fake_name = generator(latent)\n",
        "    \n",
        "    # Try to fool the discriminator\n",
        "    pred = discriminator(fake_name)\n",
        "    target = torch.ones(1, device=device)\n",
        "    loss = F.binary_cross_entropy(pred, target)\n",
        "    \n",
        "    # Update generator weights\n",
        "    loss.backward()\n",
        "    opt_g.step()\n",
        "    \n",
        "    return loss.item()"
      ]
    },
    {
      "cell_type": "code",
      "execution_count": null,
      "metadata": {
        "colab": {
          "base_uri": "https://localhost:8080/"
        },
        "id": "rc9iAKa62vII",
        "outputId": "7e9b3f27-2503-479f-b066-e26ed8eeac10"
      },
      "outputs": [
        {
          "data": {
            "text/plain": [
              "dtype('float64')"
            ]
          },
          "execution_count": 49,
          "metadata": {},
          "output_type": "execute_result"
        }
      ],
      "source": [
        "input_norm[0].dtype"
      ]
    },
    {
      "cell_type": "code",
      "execution_count": null,
      "metadata": {
        "colab": {
          "base_uri": "https://localhost:8080/"
        },
        "id": "l9GV5rtT23gk",
        "outputId": "d3d69f33-0514-4064-c240-75ec54aef70c"
      },
      "outputs": [
        {
          "data": {
            "text/plain": [
              "tensor([0.0848, 0.3591, 0.3470, 0.3136, 0.0000, 0.0000, 0.0000, 0.0000, 0.0000,\n",
              "        0.0000, 0.0000, 0.0000, 0.0000, 0.0000, 0.0000], dtype=torch.float64)"
            ]
          },
          "execution_count": 50,
          "metadata": {},
          "output_type": "execute_result"
        }
      ],
      "source": [
        "torch.tensor(input_norm[0], dtype=torch.double)"
      ]
    },
    {
      "cell_type": "code",
      "execution_count": null,
      "metadata": {
        "id": "MWl2edI-2tA9"
      },
      "outputs": [],
      "source": [
        "train_ds = torch.tensor(input_norm)"
      ]
    },
    {
      "cell_type": "code",
      "execution_count": null,
      "metadata": {
        "colab": {
          "base_uri": "https://localhost:8080/"
        },
        "id": "J3Ua9CwJ3Hio",
        "outputId": "cc80dbca-d440-4f30-ef2a-e221d86bb81e"
      },
      "outputs": [
        {
          "data": {
            "text/plain": [
              "torch.float64"
            ]
          },
          "execution_count": 52,
          "metadata": {},
          "output_type": "execute_result"
        }
      ],
      "source": [
        "train_ds[0].dtype"
      ]
    },
    {
      "cell_type": "markdown",
      "metadata": {
        "id": "v6ghrkk0-B4E"
      },
      "source": [
        "### Model train function (a.k.a. Fit function)"
      ]
    },
    {
      "cell_type": "code",
      "execution_count": null,
      "metadata": {
        "id": "cweizQ-2qEdH"
      },
      "outputs": [],
      "source": [
        "def fit(epochs, lr, start_idx=1):\n",
        "    torch.cuda.empty_cache()\n",
        "    \n",
        "    # Losses & scores\n",
        "    losses_g = []\n",
        "    losses_d = []\n",
        "    real_scores = []\n",
        "    fake_scores = []\n",
        "    \n",
        "    # Create optimizers\n",
        "    opt_d = torch.optim.Adam(discriminator.parameters(), lr=lr, betas=(0.5, 0.999))\n",
        "    opt_g = torch.optim.Adam(generator.parameters(), lr=lr, betas=(0.5, 0.999))\n",
        "    \n",
        "    for epoch in range(epochs):\n",
        "        for real_name in encoded_names:\n",
        "            loss_d, real_score, fake_score = train_discriminator(real_name, opt_d) # Train discriminator\n",
        "            loss_g = train_generator(opt_g) # Train generator\n",
        "            \n",
        "        # Record losses & scores\n",
        "        losses_g.append(loss_g)\n",
        "        losses_d.append(loss_d)\n",
        "        real_scores.append(real_score)\n",
        "        fake_scores.append(fake_score)\n",
        "        \n",
        "        # Log losses & scores (last batch)\n",
        "        print(\"Epoch [{}/{}], loss_g: {:.4f}, loss_d: {:.4f}, real_score: {:.4f}, fake_score: {:.4f}\"\n",
        "          .format(epoch+1, epochs, loss_g, loss_d, real_score, fake_score))\n",
        "    \n",
        "        # # Save generated images\n",
        "        # save_samples(epoch+start_idx, fixed_latent, show=False)\n",
        "    \n",
        "    return losses_g, losses_d, real_scores, fake_scores"
      ]
    },
    {
      "cell_type": "code",
      "execution_count": null,
      "metadata": {
        "colab": {
          "base_uri": "https://localhost:8080/",
          "height": 35
        },
        "id": "NZv1ZkDFo_c-",
        "outputId": "9b071b33-9a44-4278-b7d0-0e8e6aadbb81"
      },
      "outputs": [
        {
          "data": {
            "application/vnd.google.colaboratory.intrinsic+json": {
              "type": "string"
            },
            "text/plain": [
              "'Cuda'"
            ]
          },
          "execution_count": 54,
          "metadata": {},
          "output_type": "execute_result"
        }
      ],
      "source": [
        "which_device(encoded_names)"
      ]
    },
    {
      "cell_type": "markdown",
      "metadata": {
        "id": "2yAA7N39-Kzx"
      },
      "source": [
        "### Training phase"
      ]
    },
    {
      "cell_type": "code",
      "execution_count": null,
      "metadata": {
        "id": "0FEfZaROFeHT"
      },
      "outputs": [],
      "source": [
        "# Keeping losses and accuracy data for record\n",
        "\n",
        "history = []"
      ]
    },
    {
      "cell_type": "code",
      "execution_count": null,
      "metadata": {
        "colab": {
          "base_uri": "https://localhost:8080/"
        },
        "id": "Kc0czhcfspNI",
        "outputId": "5c9865e2-7a0b-4922-cb12-f1db637989b7"
      },
      "outputs": [
        {
          "name": "stdout",
          "output_type": "stream",
          "text": [
            "Epoch [1/3], loss_g: 13.9610, loss_d: 0.0000, real_score: 1.0000, fake_score: 0.0000\n",
            "Epoch [2/3], loss_g: 22.2632, loss_d: 0.0000, real_score: 1.0000, fake_score: 0.0000\n",
            "Epoch [3/3], loss_g: 27.2070, loss_d: 0.0000, real_score: 1.0000, fake_score: 0.0000\n",
            "CPU times: user 12min 37s, sys: 13.2 s, total: 12min 51s\n",
            "Wall time: 12min 50s\n"
          ]
        }
      ],
      "source": [
        "%%time\n",
        "history += fit(3, 1e-4)"
      ]
    },
    {
      "cell_type": "code",
      "execution_count": null,
      "metadata": {
        "id": "h3a5ENbQHeMr"
      },
      "outputs": [],
      "source": [
        "# history += fit(3, 1e-5)"
      ]
    },
    {
      "cell_type": "code",
      "execution_count": null,
      "metadata": {
        "colab": {
          "base_uri": "https://localhost:8080/"
        },
        "id": "dJVa0GBbycxb",
        "outputId": "cc577495-abc0-4539-8a9e-9051071e2d77"
      },
      "outputs": [
        {
          "name": "stdout",
          "output_type": "stream",
          "text": [
            "CPU times: user 18 µs, sys: 0 ns, total: 18 µs\n",
            "Wall time: 20.7 µs\n"
          ]
        }
      ],
      "source": [
        "%%time\n",
        "# history += fit(100, 1e-4)"
      ]
    },
    {
      "cell_type": "code",
      "execution_count": null,
      "metadata": {
        "id": "kZbk7twaG4fW"
      },
      "outputs": [],
      "source": [
        "# Some plots"
      ]
    },
    {
      "cell_type": "code",
      "execution_count": null,
      "metadata": {
        "id": "3iUOeAbMG6Tx"
      },
      "outputs": [],
      "source": [
        "# Accuracy stuff"
      ]
    },
    {
      "cell_type": "markdown",
      "metadata": {
        "id": "Em_Cg2En-W6v"
      },
      "source": [
        "## Saving the trained model"
      ]
    },
    {
      "cell_type": "code",
      "execution_count": null,
      "metadata": {
        "id": "zyXQUzsPGAtG"
      },
      "outputs": [],
      "source": [
        "# Define the file path for the saved model\n",
        "model_path = 'name_generator(v_alpha3).pth'\n",
        "\n",
        "# Save the entire model\n",
        "torch.save(generator, model_path)\n"
      ]
    },
    {
      "cell_type": "code",
      "execution_count": null,
      "metadata": {
        "colab": {
          "base_uri": "https://localhost:8080/"
        },
        "id": "o9E0Tug87L31",
        "outputId": "0a2652bb-e96e-41bb-f68c-92741cb13d8c"
      },
      "outputs": [
        {
          "data": {
            "application/javascript": "\n    async function download(id, filename, size) {\n      if (!google.colab.kernel.accessAllowed) {\n        return;\n      }\n      const div = document.createElement('div');\n      const label = document.createElement('label');\n      label.textContent = `Downloading \"${filename}\": `;\n      div.appendChild(label);\n      const progress = document.createElement('progress');\n      progress.max = size;\n      div.appendChild(progress);\n      document.body.appendChild(div);\n\n      const buffers = [];\n      let downloaded = 0;\n\n      const channel = await google.colab.kernel.comms.open(id);\n      // Send a message to notify the kernel that we're ready.\n      channel.send({})\n\n      for await (const message of channel.messages) {\n        // Send a message to notify the kernel that we're ready.\n        channel.send({})\n        if (message.buffers) {\n          for (const buffer of message.buffers) {\n            buffers.push(buffer);\n            downloaded += buffer.byteLength;\n            progress.value = downloaded;\n          }\n        }\n      }\n      const blob = new Blob(buffers, {type: 'application/binary'});\n      const a = document.createElement('a');\n      a.href = window.URL.createObjectURL(blob);\n      a.download = filename;\n      div.appendChild(a);\n      a.click();\n      div.remove();\n    }\n  ",
            "text/plain": [
              "<IPython.core.display.Javascript object>"
            ]
          },
          "metadata": {},
          "output_type": "display_data"
        },
        {
          "data": {
            "application/javascript": "download(\"download_57d9e9c6-081c-43cb-903b-09c1d164bff4\", \"name_generator(v_alpha3).pth\", 12409)",
            "text/plain": [
              "<IPython.core.display.Javascript object>"
            ]
          },
          "metadata": {},
          "output_type": "display_data"
        }
      ],
      "source": [
        "# Downloading the trained model\n",
        "\n",
        "from google.colab import files\n",
        "\n",
        "files.download(model_path)"
      ]
    },
    {
      "cell_type": "code",
      "execution_count": null,
      "metadata": {
        "id": "kpwH4uORGbv8"
      },
      "outputs": [],
      "source": [
        "# Loading the model\n",
        "\n",
        "# generator = torch.load(model_path)\n"
      ]
    },
    {
      "cell_type": "markdown",
      "metadata": {
        "id": "U1SeiVqd-Z_H"
      },
      "source": [
        "## Demo - Generating new names"
      ]
    },
    {
      "cell_type": "code",
      "execution_count": null,
      "metadata": {
        "colab": {
          "base_uri": "https://localhost:8080/"
        },
        "id": "mZXtXX-mbMrY",
        "outputId": "88afa064-e00f-4321-838f-5cf2ff55925c"
      },
      "outputs": [
        {
          "name": "stdout",
          "output_type": "stream",
          "text": [
            "Generated new name:              t  \n",
            "Generated new name:              t  \n",
            "Generated new name:              t  \n",
            "Generated new name:              t  \n",
            "Generated new name:              t  \n"
          ]
        }
      ],
      "source": [
        "for _ in range(5):\n",
        "  generate_new_name()"
      ]
    },
    {
      "cell_type": "markdown",
      "metadata": {
        "id": "AqFhinMmGs2W"
      },
      "source": [
        "# EOF"
      ]
    }
  ],
  "metadata": {
    "accelerator": "GPU",
    "colab": {
      "collapsed_sections": [
        "Em_Cg2En-W6v"
      ],
      "provenance": []
    },
    "gpuClass": "standard",
    "kernelspec": {
      "display_name": "Python 3",
      "name": "python3"
    },
    "language_info": {
      "name": "python"
    }
  },
  "nbformat": 4,
  "nbformat_minor": 0
}
