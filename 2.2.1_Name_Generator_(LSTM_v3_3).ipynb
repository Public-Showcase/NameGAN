{
  "cells": [
    {
      "cell_type": "markdown",
      "source": [
        "# Name Generator\n",
        "\n",
        "Long Sort-term Memory Networks   \n",
        "v3.3✨"
      ],
      "metadata": {
        "id": "PLeXufNW4z9W"
      }
    },
    {
      "cell_type": "code",
      "execution_count": 1,
      "metadata": {
        "id": "69BolNoKxkWI"
      },
      "outputs": [],
      "source": [
        "# Importing required modules\n",
        "\n",
        "# nD Array\n",
        "import numpy as np\n",
        "import pandas as pd\n",
        "\n",
        "# Plotting\n",
        "import matplotlib.pyplot as plt\n",
        "import seaborn as sns\n",
        "\n",
        "# PyTorch\n",
        "import torch\n",
        "import torch.nn as nn\n",
        "import torch.nn.functional as F\n",
        "import torch.optim as optim\n",
        "from torch.utils.data import Dataset, DataLoader\n",
        "from torch.utils.tensorboard import SummaryWriter\n",
        "\n",
        "# Utils\n",
        "import time\n",
        "import string\n",
        "from collections import Counter\n"
      ]
    },
    {
      "cell_type": "markdown",
      "metadata": {
        "id": "j2gBXFUhxkWK"
      },
      "source": [
        "## Data Preprocessing"
      ]
    },
    {
      "cell_type": "code",
      "execution_count": 3,
      "metadata": {
        "colab": {
          "base_uri": "https://localhost:8080/",
          "height": 224
        },
        "id": "vZfJ-ioTxkWL",
        "outputId": "2eb9cf74-6c6f-40d5-e1e4-4bab220d3696"
      },
      "outputs": [
        {
          "output_type": "stream",
          "name": "stdout",
          "text": [
            "(1825433, 2)\n"
          ]
        },
        {
          "output_type": "execute_result",
          "data": {
            "text/plain": [
              "        Name  Count\n",
              "0       Mary   7065\n",
              "1       Anna   2604\n",
              "2       Emma   2003\n",
              "3  Elizabeth   1939\n",
              "4     Minnie   1746"
            ],
            "text/html": [
              "\n",
              "\n",
              "  <div id=\"df-1f58dfe1-90f3-4d72-aa2d-8f07f8e4d2fe\">\n",
              "    <div class=\"colab-df-container\">\n",
              "      <div>\n",
              "<style scoped>\n",
              "    .dataframe tbody tr th:only-of-type {\n",
              "        vertical-align: middle;\n",
              "    }\n",
              "\n",
              "    .dataframe tbody tr th {\n",
              "        vertical-align: top;\n",
              "    }\n",
              "\n",
              "    .dataframe thead th {\n",
              "        text-align: right;\n",
              "    }\n",
              "</style>\n",
              "<table border=\"1\" class=\"dataframe\">\n",
              "  <thead>\n",
              "    <tr style=\"text-align: right;\">\n",
              "      <th></th>\n",
              "      <th>Name</th>\n",
              "      <th>Count</th>\n",
              "    </tr>\n",
              "  </thead>\n",
              "  <tbody>\n",
              "    <tr>\n",
              "      <th>0</th>\n",
              "      <td>Mary</td>\n",
              "      <td>7065</td>\n",
              "    </tr>\n",
              "    <tr>\n",
              "      <th>1</th>\n",
              "      <td>Anna</td>\n",
              "      <td>2604</td>\n",
              "    </tr>\n",
              "    <tr>\n",
              "      <th>2</th>\n",
              "      <td>Emma</td>\n",
              "      <td>2003</td>\n",
              "    </tr>\n",
              "    <tr>\n",
              "      <th>3</th>\n",
              "      <td>Elizabeth</td>\n",
              "      <td>1939</td>\n",
              "    </tr>\n",
              "    <tr>\n",
              "      <th>4</th>\n",
              "      <td>Minnie</td>\n",
              "      <td>1746</td>\n",
              "    </tr>\n",
              "  </tbody>\n",
              "</table>\n",
              "</div>\n",
              "      <button class=\"colab-df-convert\" onclick=\"convertToInteractive('df-1f58dfe1-90f3-4d72-aa2d-8f07f8e4d2fe')\"\n",
              "              title=\"Convert this dataframe to an interactive table.\"\n",
              "              style=\"display:none;\">\n",
              "\n",
              "  <svg xmlns=\"http://www.w3.org/2000/svg\" height=\"24px\"viewBox=\"0 0 24 24\"\n",
              "       width=\"24px\">\n",
              "    <path d=\"M0 0h24v24H0V0z\" fill=\"none\"/>\n",
              "    <path d=\"M18.56 5.44l.94 2.06.94-2.06 2.06-.94-2.06-.94-.94-2.06-.94 2.06-2.06.94zm-11 1L8.5 8.5l.94-2.06 2.06-.94-2.06-.94L8.5 2.5l-.94 2.06-2.06.94zm10 10l.94 2.06.94-2.06 2.06-.94-2.06-.94-.94-2.06-.94 2.06-2.06.94z\"/><path d=\"M17.41 7.96l-1.37-1.37c-.4-.4-.92-.59-1.43-.59-.52 0-1.04.2-1.43.59L10.3 9.45l-7.72 7.72c-.78.78-.78 2.05 0 2.83L4 21.41c.39.39.9.59 1.41.59.51 0 1.02-.2 1.41-.59l7.78-7.78 2.81-2.81c.8-.78.8-2.07 0-2.86zM5.41 20L4 18.59l7.72-7.72 1.47 1.35L5.41 20z\"/>\n",
              "  </svg>\n",
              "      </button>\n",
              "\n",
              "\n",
              "\n",
              "    <div id=\"df-9d62ffed-c30d-402d-ab9e-614bf2c67ad5\">\n",
              "      <button class=\"colab-df-quickchart\" onclick=\"quickchart('df-9d62ffed-c30d-402d-ab9e-614bf2c67ad5')\"\n",
              "              title=\"Suggest charts.\"\n",
              "              style=\"display:none;\">\n",
              "\n",
              "<svg xmlns=\"http://www.w3.org/2000/svg\" height=\"24px\"viewBox=\"0 0 24 24\"\n",
              "     width=\"24px\">\n",
              "    <g>\n",
              "        <path d=\"M19 3H5c-1.1 0-2 .9-2 2v14c0 1.1.9 2 2 2h14c1.1 0 2-.9 2-2V5c0-1.1-.9-2-2-2zM9 17H7v-7h2v7zm4 0h-2V7h2v10zm4 0h-2v-4h2v4z\"/>\n",
              "    </g>\n",
              "</svg>\n",
              "      </button>\n",
              "    </div>\n",
              "\n",
              "<style>\n",
              "  .colab-df-quickchart {\n",
              "    background-color: #E8F0FE;\n",
              "    border: none;\n",
              "    border-radius: 50%;\n",
              "    cursor: pointer;\n",
              "    display: none;\n",
              "    fill: #1967D2;\n",
              "    height: 32px;\n",
              "    padding: 0 0 0 0;\n",
              "    width: 32px;\n",
              "  }\n",
              "\n",
              "  .colab-df-quickchart:hover {\n",
              "    background-color: #E2EBFA;\n",
              "    box-shadow: 0px 1px 2px rgba(60, 64, 67, 0.3), 0px 1px 3px 1px rgba(60, 64, 67, 0.15);\n",
              "    fill: #174EA6;\n",
              "  }\n",
              "\n",
              "  [theme=dark] .colab-df-quickchart {\n",
              "    background-color: #3B4455;\n",
              "    fill: #D2E3FC;\n",
              "  }\n",
              "\n",
              "  [theme=dark] .colab-df-quickchart:hover {\n",
              "    background-color: #434B5C;\n",
              "    box-shadow: 0px 1px 3px 1px rgba(0, 0, 0, 0.15);\n",
              "    filter: drop-shadow(0px 1px 2px rgba(0, 0, 0, 0.3));\n",
              "    fill: #FFFFFF;\n",
              "  }\n",
              "</style>\n",
              "\n",
              "    <script>\n",
              "      async function quickchart(key) {\n",
              "        const containerElement = document.querySelector('#' + key);\n",
              "        const charts = await google.colab.kernel.invokeFunction(\n",
              "            'suggestCharts', [key], {});\n",
              "      }\n",
              "    </script>\n",
              "\n",
              "      <script>\n",
              "\n",
              "function displayQuickchartButton(domScope) {\n",
              "  let quickchartButtonEl =\n",
              "    domScope.querySelector('#df-9d62ffed-c30d-402d-ab9e-614bf2c67ad5 button.colab-df-quickchart');\n",
              "  quickchartButtonEl.style.display =\n",
              "    google.colab.kernel.accessAllowed ? 'block' : 'none';\n",
              "}\n",
              "\n",
              "        displayQuickchartButton(document);\n",
              "      </script>\n",
              "      <style>\n",
              "    .colab-df-container {\n",
              "      display:flex;\n",
              "      flex-wrap:wrap;\n",
              "      gap: 12px;\n",
              "    }\n",
              "\n",
              "    .colab-df-convert {\n",
              "      background-color: #E8F0FE;\n",
              "      border: none;\n",
              "      border-radius: 50%;\n",
              "      cursor: pointer;\n",
              "      display: none;\n",
              "      fill: #1967D2;\n",
              "      height: 32px;\n",
              "      padding: 0 0 0 0;\n",
              "      width: 32px;\n",
              "    }\n",
              "\n",
              "    .colab-df-convert:hover {\n",
              "      background-color: #E2EBFA;\n",
              "      box-shadow: 0px 1px 2px rgba(60, 64, 67, 0.3), 0px 1px 3px 1px rgba(60, 64, 67, 0.15);\n",
              "      fill: #174EA6;\n",
              "    }\n",
              "\n",
              "    [theme=dark] .colab-df-convert {\n",
              "      background-color: #3B4455;\n",
              "      fill: #D2E3FC;\n",
              "    }\n",
              "\n",
              "    [theme=dark] .colab-df-convert:hover {\n",
              "      background-color: #434B5C;\n",
              "      box-shadow: 0px 1px 3px 1px rgba(0, 0, 0, 0.15);\n",
              "      filter: drop-shadow(0px 1px 2px rgba(0, 0, 0, 0.3));\n",
              "      fill: #FFFFFF;\n",
              "    }\n",
              "  </style>\n",
              "\n",
              "      <script>\n",
              "        const buttonEl =\n",
              "          document.querySelector('#df-1f58dfe1-90f3-4d72-aa2d-8f07f8e4d2fe button.colab-df-convert');\n",
              "        buttonEl.style.display =\n",
              "          google.colab.kernel.accessAllowed ? 'block' : 'none';\n",
              "\n",
              "        async function convertToInteractive(key) {\n",
              "          const element = document.querySelector('#df-1f58dfe1-90f3-4d72-aa2d-8f07f8e4d2fe');\n",
              "          const dataTable =\n",
              "            await google.colab.kernel.invokeFunction('convertToInteractive',\n",
              "                                                     [key], {});\n",
              "          if (!dataTable) return;\n",
              "\n",
              "          const docLinkHtml = 'Like what you see? Visit the ' +\n",
              "            '<a target=\"_blank\" href=https://colab.research.google.com/notebooks/data_table.ipynb>data table notebook</a>'\n",
              "            + ' to learn more about interactive tables.';\n",
              "          element.innerHTML = '';\n",
              "          dataTable['output_type'] = 'display_data';\n",
              "          await google.colab.output.renderOutput(dataTable, element);\n",
              "          const docLink = document.createElement('div');\n",
              "          docLink.innerHTML = docLinkHtml;\n",
              "          element.appendChild(docLink);\n",
              "        }\n",
              "      </script>\n",
              "    </div>\n",
              "  </div>\n"
            ]
          },
          "metadata": {},
          "execution_count": 3
        }
      ],
      "source": [
        "data_path = \"/content/names.csv\"\n",
        "df = pd.read_csv(data_path)\n",
        "\n",
        "df.drop(['Id', 'Year', 'Gender'], axis=1, inplace=True)\n",
        "\n",
        "print(df.shape)\n",
        "df.head()"
      ]
    },
    {
      "cell_type": "code",
      "execution_count": 4,
      "metadata": {
        "id": "N6mU5yBnxkWM"
      },
      "outputs": [],
      "source": [
        "def preprocess_name(name):\n",
        "    name = name.lower().strip() # converting to lower case and triming extra space\n",
        "    name = \"\".join([c for c in name if c in string.ascii_lowercase]) # only allowing ASCII Lowercase characters and removing symbols and other charactors\n",
        "    return name"
      ]
    },
    {
      "cell_type": "code",
      "execution_count": 5,
      "metadata": {
        "colab": {
          "base_uri": "https://localhost:8080/",
          "height": 206
        },
        "id": "M4e-JjknxkWN",
        "outputId": "c374d77f-70e6-4e07-ae83-f0df0b9e5e43"
      },
      "outputs": [
        {
          "output_type": "execute_result",
          "data": {
            "text/plain": [
              "        Name  Count\n",
              "0       mary   7065\n",
              "1       anna   2604\n",
              "2       emma   2003\n",
              "3  elizabeth   1939\n",
              "4     minnie   1746"
            ],
            "text/html": [
              "\n",
              "\n",
              "  <div id=\"df-837e204c-792a-4904-b871-41c3b001b8c3\">\n",
              "    <div class=\"colab-df-container\">\n",
              "      <div>\n",
              "<style scoped>\n",
              "    .dataframe tbody tr th:only-of-type {\n",
              "        vertical-align: middle;\n",
              "    }\n",
              "\n",
              "    .dataframe tbody tr th {\n",
              "        vertical-align: top;\n",
              "    }\n",
              "\n",
              "    .dataframe thead th {\n",
              "        text-align: right;\n",
              "    }\n",
              "</style>\n",
              "<table border=\"1\" class=\"dataframe\">\n",
              "  <thead>\n",
              "    <tr style=\"text-align: right;\">\n",
              "      <th></th>\n",
              "      <th>Name</th>\n",
              "      <th>Count</th>\n",
              "    </tr>\n",
              "  </thead>\n",
              "  <tbody>\n",
              "    <tr>\n",
              "      <th>0</th>\n",
              "      <td>mary</td>\n",
              "      <td>7065</td>\n",
              "    </tr>\n",
              "    <tr>\n",
              "      <th>1</th>\n",
              "      <td>anna</td>\n",
              "      <td>2604</td>\n",
              "    </tr>\n",
              "    <tr>\n",
              "      <th>2</th>\n",
              "      <td>emma</td>\n",
              "      <td>2003</td>\n",
              "    </tr>\n",
              "    <tr>\n",
              "      <th>3</th>\n",
              "      <td>elizabeth</td>\n",
              "      <td>1939</td>\n",
              "    </tr>\n",
              "    <tr>\n",
              "      <th>4</th>\n",
              "      <td>minnie</td>\n",
              "      <td>1746</td>\n",
              "    </tr>\n",
              "  </tbody>\n",
              "</table>\n",
              "</div>\n",
              "      <button class=\"colab-df-convert\" onclick=\"convertToInteractive('df-837e204c-792a-4904-b871-41c3b001b8c3')\"\n",
              "              title=\"Convert this dataframe to an interactive table.\"\n",
              "              style=\"display:none;\">\n",
              "\n",
              "  <svg xmlns=\"http://www.w3.org/2000/svg\" height=\"24px\"viewBox=\"0 0 24 24\"\n",
              "       width=\"24px\">\n",
              "    <path d=\"M0 0h24v24H0V0z\" fill=\"none\"/>\n",
              "    <path d=\"M18.56 5.44l.94 2.06.94-2.06 2.06-.94-2.06-.94-.94-2.06-.94 2.06-2.06.94zm-11 1L8.5 8.5l.94-2.06 2.06-.94-2.06-.94L8.5 2.5l-.94 2.06-2.06.94zm10 10l.94 2.06.94-2.06 2.06-.94-2.06-.94-.94-2.06-.94 2.06-2.06.94z\"/><path d=\"M17.41 7.96l-1.37-1.37c-.4-.4-.92-.59-1.43-.59-.52 0-1.04.2-1.43.59L10.3 9.45l-7.72 7.72c-.78.78-.78 2.05 0 2.83L4 21.41c.39.39.9.59 1.41.59.51 0 1.02-.2 1.41-.59l7.78-7.78 2.81-2.81c.8-.78.8-2.07 0-2.86zM5.41 20L4 18.59l7.72-7.72 1.47 1.35L5.41 20z\"/>\n",
              "  </svg>\n",
              "      </button>\n",
              "\n",
              "\n",
              "\n",
              "    <div id=\"df-88887c04-7082-49e3-85dd-10c20ef1e6c0\">\n",
              "      <button class=\"colab-df-quickchart\" onclick=\"quickchart('df-88887c04-7082-49e3-85dd-10c20ef1e6c0')\"\n",
              "              title=\"Suggest charts.\"\n",
              "              style=\"display:none;\">\n",
              "\n",
              "<svg xmlns=\"http://www.w3.org/2000/svg\" height=\"24px\"viewBox=\"0 0 24 24\"\n",
              "     width=\"24px\">\n",
              "    <g>\n",
              "        <path d=\"M19 3H5c-1.1 0-2 .9-2 2v14c0 1.1.9 2 2 2h14c1.1 0 2-.9 2-2V5c0-1.1-.9-2-2-2zM9 17H7v-7h2v7zm4 0h-2V7h2v10zm4 0h-2v-4h2v4z\"/>\n",
              "    </g>\n",
              "</svg>\n",
              "      </button>\n",
              "    </div>\n",
              "\n",
              "<style>\n",
              "  .colab-df-quickchart {\n",
              "    background-color: #E8F0FE;\n",
              "    border: none;\n",
              "    border-radius: 50%;\n",
              "    cursor: pointer;\n",
              "    display: none;\n",
              "    fill: #1967D2;\n",
              "    height: 32px;\n",
              "    padding: 0 0 0 0;\n",
              "    width: 32px;\n",
              "  }\n",
              "\n",
              "  .colab-df-quickchart:hover {\n",
              "    background-color: #E2EBFA;\n",
              "    box-shadow: 0px 1px 2px rgba(60, 64, 67, 0.3), 0px 1px 3px 1px rgba(60, 64, 67, 0.15);\n",
              "    fill: #174EA6;\n",
              "  }\n",
              "\n",
              "  [theme=dark] .colab-df-quickchart {\n",
              "    background-color: #3B4455;\n",
              "    fill: #D2E3FC;\n",
              "  }\n",
              "\n",
              "  [theme=dark] .colab-df-quickchart:hover {\n",
              "    background-color: #434B5C;\n",
              "    box-shadow: 0px 1px 3px 1px rgba(0, 0, 0, 0.15);\n",
              "    filter: drop-shadow(0px 1px 2px rgba(0, 0, 0, 0.3));\n",
              "    fill: #FFFFFF;\n",
              "  }\n",
              "</style>\n",
              "\n",
              "    <script>\n",
              "      async function quickchart(key) {\n",
              "        const containerElement = document.querySelector('#' + key);\n",
              "        const charts = await google.colab.kernel.invokeFunction(\n",
              "            'suggestCharts', [key], {});\n",
              "      }\n",
              "    </script>\n",
              "\n",
              "      <script>\n",
              "\n",
              "function displayQuickchartButton(domScope) {\n",
              "  let quickchartButtonEl =\n",
              "    domScope.querySelector('#df-88887c04-7082-49e3-85dd-10c20ef1e6c0 button.colab-df-quickchart');\n",
              "  quickchartButtonEl.style.display =\n",
              "    google.colab.kernel.accessAllowed ? 'block' : 'none';\n",
              "}\n",
              "\n",
              "        displayQuickchartButton(document);\n",
              "      </script>\n",
              "      <style>\n",
              "    .colab-df-container {\n",
              "      display:flex;\n",
              "      flex-wrap:wrap;\n",
              "      gap: 12px;\n",
              "    }\n",
              "\n",
              "    .colab-df-convert {\n",
              "      background-color: #E8F0FE;\n",
              "      border: none;\n",
              "      border-radius: 50%;\n",
              "      cursor: pointer;\n",
              "      display: none;\n",
              "      fill: #1967D2;\n",
              "      height: 32px;\n",
              "      padding: 0 0 0 0;\n",
              "      width: 32px;\n",
              "    }\n",
              "\n",
              "    .colab-df-convert:hover {\n",
              "      background-color: #E2EBFA;\n",
              "      box-shadow: 0px 1px 2px rgba(60, 64, 67, 0.3), 0px 1px 3px 1px rgba(60, 64, 67, 0.15);\n",
              "      fill: #174EA6;\n",
              "    }\n",
              "\n",
              "    [theme=dark] .colab-df-convert {\n",
              "      background-color: #3B4455;\n",
              "      fill: #D2E3FC;\n",
              "    }\n",
              "\n",
              "    [theme=dark] .colab-df-convert:hover {\n",
              "      background-color: #434B5C;\n",
              "      box-shadow: 0px 1px 3px 1px rgba(0, 0, 0, 0.15);\n",
              "      filter: drop-shadow(0px 1px 2px rgba(0, 0, 0, 0.3));\n",
              "      fill: #FFFFFF;\n",
              "    }\n",
              "  </style>\n",
              "\n",
              "      <script>\n",
              "        const buttonEl =\n",
              "          document.querySelector('#df-837e204c-792a-4904-b871-41c3b001b8c3 button.colab-df-convert');\n",
              "        buttonEl.style.display =\n",
              "          google.colab.kernel.accessAllowed ? 'block' : 'none';\n",
              "\n",
              "        async function convertToInteractive(key) {\n",
              "          const element = document.querySelector('#df-837e204c-792a-4904-b871-41c3b001b8c3');\n",
              "          const dataTable =\n",
              "            await google.colab.kernel.invokeFunction('convertToInteractive',\n",
              "                                                     [key], {});\n",
              "          if (!dataTable) return;\n",
              "\n",
              "          const docLinkHtml = 'Like what you see? Visit the ' +\n",
              "            '<a target=\"_blank\" href=https://colab.research.google.com/notebooks/data_table.ipynb>data table notebook</a>'\n",
              "            + ' to learn more about interactive tables.';\n",
              "          element.innerHTML = '';\n",
              "          dataTable['output_type'] = 'display_data';\n",
              "          await google.colab.output.renderOutput(dataTable, element);\n",
              "          const docLink = document.createElement('div');\n",
              "          docLink.innerHTML = docLinkHtml;\n",
              "          element.appendChild(docLink);\n",
              "        }\n",
              "      </script>\n",
              "    </div>\n",
              "  </div>\n"
            ]
          },
          "metadata": {},
          "execution_count": 5
        }
      ],
      "source": [
        "df['Name'] = df['Name'].apply(preprocess_name)\n",
        "df.head()"
      ]
    },
    {
      "cell_type": "code",
      "execution_count": 6,
      "metadata": {
        "colab": {
          "base_uri": "https://localhost:8080/"
        },
        "id": "r23srDDHxkWN",
        "outputId": "c5f471fb-7134-4883-e934-a6c97962cc4d"
      },
      "outputs": [
        {
          "output_type": "stream",
          "name": "stdout",
          "text": [
            "We have 93889 unique names.\n"
          ]
        }
      ],
      "source": [
        "names = df[['Name', 'Count']].groupby('Name').sum() # unique names from the 'Name' column and the corresponding sum of all the 'Count' values for each unique name\n",
        "print(\"We have\", len(names), \"unique names.\")"
      ]
    },
    {
      "cell_type": "code",
      "execution_count": 7,
      "metadata": {
        "colab": {
          "base_uri": "https://localhost:8080/"
        },
        "id": "_LVNBv1YxkWN",
        "outputId": "e8fe2248-aeba-4706-ce9f-7346f3f1e676"
      },
      "outputs": [
        {
          "output_type": "stream",
          "name": "stdout",
          "text": [
            "Maximum length of a name in the database is  15\n"
          ]
        }
      ],
      "source": [
        "max_length = pd.Series(names.index).apply(len).max() # Checking the maximum length in our dataset names\n",
        "print(\"Maximum length of a name in the database is \", max_length)"
      ]
    },
    {
      "cell_type": "code",
      "execution_count": 8,
      "metadata": {
        "colab": {
          "base_uri": "https://localhost:8080/",
          "height": 238
        },
        "id": "ea32uoz6xkWO",
        "outputId": "57211981-b4f8-4344-a08f-5cf7e360ab93"
      },
      "outputs": [
        {
          "output_type": "execute_result",
          "data": {
            "text/plain": [
              "           Count\n",
              "Name            \n",
              "james    5129096\n",
              "john     5106590\n",
              "robert   4816785\n",
              "michael  4330805\n",
              "mary     4130441"
            ],
            "text/html": [
              "\n",
              "\n",
              "  <div id=\"df-ade6c62b-83be-47d8-8c9a-67aa9351b84f\">\n",
              "    <div class=\"colab-df-container\">\n",
              "      <div>\n",
              "<style scoped>\n",
              "    .dataframe tbody tr th:only-of-type {\n",
              "        vertical-align: middle;\n",
              "    }\n",
              "\n",
              "    .dataframe tbody tr th {\n",
              "        vertical-align: top;\n",
              "    }\n",
              "\n",
              "    .dataframe thead th {\n",
              "        text-align: right;\n",
              "    }\n",
              "</style>\n",
              "<table border=\"1\" class=\"dataframe\">\n",
              "  <thead>\n",
              "    <tr style=\"text-align: right;\">\n",
              "      <th></th>\n",
              "      <th>Count</th>\n",
              "    </tr>\n",
              "    <tr>\n",
              "      <th>Name</th>\n",
              "      <th></th>\n",
              "    </tr>\n",
              "  </thead>\n",
              "  <tbody>\n",
              "    <tr>\n",
              "      <th>james</th>\n",
              "      <td>5129096</td>\n",
              "    </tr>\n",
              "    <tr>\n",
              "      <th>john</th>\n",
              "      <td>5106590</td>\n",
              "    </tr>\n",
              "    <tr>\n",
              "      <th>robert</th>\n",
              "      <td>4816785</td>\n",
              "    </tr>\n",
              "    <tr>\n",
              "      <th>michael</th>\n",
              "      <td>4330805</td>\n",
              "    </tr>\n",
              "    <tr>\n",
              "      <th>mary</th>\n",
              "      <td>4130441</td>\n",
              "    </tr>\n",
              "  </tbody>\n",
              "</table>\n",
              "</div>\n",
              "      <button class=\"colab-df-convert\" onclick=\"convertToInteractive('df-ade6c62b-83be-47d8-8c9a-67aa9351b84f')\"\n",
              "              title=\"Convert this dataframe to an interactive table.\"\n",
              "              style=\"display:none;\">\n",
              "\n",
              "  <svg xmlns=\"http://www.w3.org/2000/svg\" height=\"24px\"viewBox=\"0 0 24 24\"\n",
              "       width=\"24px\">\n",
              "    <path d=\"M0 0h24v24H0V0z\" fill=\"none\"/>\n",
              "    <path d=\"M18.56 5.44l.94 2.06.94-2.06 2.06-.94-2.06-.94-.94-2.06-.94 2.06-2.06.94zm-11 1L8.5 8.5l.94-2.06 2.06-.94-2.06-.94L8.5 2.5l-.94 2.06-2.06.94zm10 10l.94 2.06.94-2.06 2.06-.94-2.06-.94-.94-2.06-.94 2.06-2.06.94z\"/><path d=\"M17.41 7.96l-1.37-1.37c-.4-.4-.92-.59-1.43-.59-.52 0-1.04.2-1.43.59L10.3 9.45l-7.72 7.72c-.78.78-.78 2.05 0 2.83L4 21.41c.39.39.9.59 1.41.59.51 0 1.02-.2 1.41-.59l7.78-7.78 2.81-2.81c.8-.78.8-2.07 0-2.86zM5.41 20L4 18.59l7.72-7.72 1.47 1.35L5.41 20z\"/>\n",
              "  </svg>\n",
              "      </button>\n",
              "\n",
              "\n",
              "\n",
              "    <div id=\"df-39300eca-f73e-4141-a20b-021636927897\">\n",
              "      <button class=\"colab-df-quickchart\" onclick=\"quickchart('df-39300eca-f73e-4141-a20b-021636927897')\"\n",
              "              title=\"Suggest charts.\"\n",
              "              style=\"display:none;\">\n",
              "\n",
              "<svg xmlns=\"http://www.w3.org/2000/svg\" height=\"24px\"viewBox=\"0 0 24 24\"\n",
              "     width=\"24px\">\n",
              "    <g>\n",
              "        <path d=\"M19 3H5c-1.1 0-2 .9-2 2v14c0 1.1.9 2 2 2h14c1.1 0 2-.9 2-2V5c0-1.1-.9-2-2-2zM9 17H7v-7h2v7zm4 0h-2V7h2v10zm4 0h-2v-4h2v4z\"/>\n",
              "    </g>\n",
              "</svg>\n",
              "      </button>\n",
              "    </div>\n",
              "\n",
              "<style>\n",
              "  .colab-df-quickchart {\n",
              "    background-color: #E8F0FE;\n",
              "    border: none;\n",
              "    border-radius: 50%;\n",
              "    cursor: pointer;\n",
              "    display: none;\n",
              "    fill: #1967D2;\n",
              "    height: 32px;\n",
              "    padding: 0 0 0 0;\n",
              "    width: 32px;\n",
              "  }\n",
              "\n",
              "  .colab-df-quickchart:hover {\n",
              "    background-color: #E2EBFA;\n",
              "    box-shadow: 0px 1px 2px rgba(60, 64, 67, 0.3), 0px 1px 3px 1px rgba(60, 64, 67, 0.15);\n",
              "    fill: #174EA6;\n",
              "  }\n",
              "\n",
              "  [theme=dark] .colab-df-quickchart {\n",
              "    background-color: #3B4455;\n",
              "    fill: #D2E3FC;\n",
              "  }\n",
              "\n",
              "  [theme=dark] .colab-df-quickchart:hover {\n",
              "    background-color: #434B5C;\n",
              "    box-shadow: 0px 1px 3px 1px rgba(0, 0, 0, 0.15);\n",
              "    filter: drop-shadow(0px 1px 2px rgba(0, 0, 0, 0.3));\n",
              "    fill: #FFFFFF;\n",
              "  }\n",
              "</style>\n",
              "\n",
              "    <script>\n",
              "      async function quickchart(key) {\n",
              "        const containerElement = document.querySelector('#' + key);\n",
              "        const charts = await google.colab.kernel.invokeFunction(\n",
              "            'suggestCharts', [key], {});\n",
              "      }\n",
              "    </script>\n",
              "\n",
              "      <script>\n",
              "\n",
              "function displayQuickchartButton(domScope) {\n",
              "  let quickchartButtonEl =\n",
              "    domScope.querySelector('#df-39300eca-f73e-4141-a20b-021636927897 button.colab-df-quickchart');\n",
              "  quickchartButtonEl.style.display =\n",
              "    google.colab.kernel.accessAllowed ? 'block' : 'none';\n",
              "}\n",
              "\n",
              "        displayQuickchartButton(document);\n",
              "      </script>\n",
              "      <style>\n",
              "    .colab-df-container {\n",
              "      display:flex;\n",
              "      flex-wrap:wrap;\n",
              "      gap: 12px;\n",
              "    }\n",
              "\n",
              "    .colab-df-convert {\n",
              "      background-color: #E8F0FE;\n",
              "      border: none;\n",
              "      border-radius: 50%;\n",
              "      cursor: pointer;\n",
              "      display: none;\n",
              "      fill: #1967D2;\n",
              "      height: 32px;\n",
              "      padding: 0 0 0 0;\n",
              "      width: 32px;\n",
              "    }\n",
              "\n",
              "    .colab-df-convert:hover {\n",
              "      background-color: #E2EBFA;\n",
              "      box-shadow: 0px 1px 2px rgba(60, 64, 67, 0.3), 0px 1px 3px 1px rgba(60, 64, 67, 0.15);\n",
              "      fill: #174EA6;\n",
              "    }\n",
              "\n",
              "    [theme=dark] .colab-df-convert {\n",
              "      background-color: #3B4455;\n",
              "      fill: #D2E3FC;\n",
              "    }\n",
              "\n",
              "    [theme=dark] .colab-df-convert:hover {\n",
              "      background-color: #434B5C;\n",
              "      box-shadow: 0px 1px 3px 1px rgba(0, 0, 0, 0.15);\n",
              "      filter: drop-shadow(0px 1px 2px rgba(0, 0, 0, 0.3));\n",
              "      fill: #FFFFFF;\n",
              "    }\n",
              "  </style>\n",
              "\n",
              "      <script>\n",
              "        const buttonEl =\n",
              "          document.querySelector('#df-ade6c62b-83be-47d8-8c9a-67aa9351b84f button.colab-df-convert');\n",
              "        buttonEl.style.display =\n",
              "          google.colab.kernel.accessAllowed ? 'block' : 'none';\n",
              "\n",
              "        async function convertToInteractive(key) {\n",
              "          const element = document.querySelector('#df-ade6c62b-83be-47d8-8c9a-67aa9351b84f');\n",
              "          const dataTable =\n",
              "            await google.colab.kernel.invokeFunction('convertToInteractive',\n",
              "                                                     [key], {});\n",
              "          if (!dataTable) return;\n",
              "\n",
              "          const docLinkHtml = 'Like what you see? Visit the ' +\n",
              "            '<a target=\"_blank\" href=https://colab.research.google.com/notebooks/data_table.ipynb>data table notebook</a>'\n",
              "            + ' to learn more about interactive tables.';\n",
              "          element.innerHTML = '';\n",
              "          dataTable['output_type'] = 'display_data';\n",
              "          await google.colab.output.renderOutput(dataTable, element);\n",
              "          const docLink = document.createElement('div');\n",
              "          docLink.innerHTML = docLinkHtml;\n",
              "          element.appendChild(docLink);\n",
              "        }\n",
              "      </script>\n",
              "    </div>\n",
              "  </div>\n"
            ]
          },
          "metadata": {},
          "execution_count": 8
        }
      ],
      "source": [
        "names = names.sort_values(by=['Count'], ascending=False)\n",
        "names.head()"
      ]
    },
    {
      "cell_type": "code",
      "execution_count": 9,
      "metadata": {
        "colab": {
          "base_uri": "https://localhost:8080/"
        },
        "id": "FjnJ2cqGxkWO",
        "outputId": "4d98d8d2-1420-4774-ed80-818472cd1bdd"
      },
      "outputs": [
        {
          "output_type": "execute_result",
          "data": {
            "text/plain": [
              "count    9.388900e+04\n",
              "mean     3.590787e+03\n",
              "std      5.566563e+04\n",
              "min      5.000000e+00\n",
              "25%      1.100000e+01\n",
              "50%      4.500000e+01\n",
              "75%      2.370000e+02\n",
              "max      5.129096e+06\n",
              "Name: Count, dtype: float64"
            ]
          },
          "metadata": {},
          "execution_count": 9
        }
      ],
      "source": [
        "names['Count'].describe()"
      ]
    },
    {
      "cell_type": "code",
      "execution_count": 11,
      "metadata": {
        "colab": {
          "base_uri": "https://localhost:8080/",
          "height": 238
        },
        "id": "kfFjCUnCxkWP",
        "outputId": "5a464298-75fe-4464-88e1-eafe44e985d8"
      },
      "outputs": [
        {
          "output_type": "execute_result",
          "data": {
            "text/plain": [
              "           Count  count_normalized\n",
              "Name                              \n",
              "james    5129096            233363\n",
              "john     5106590            232543\n",
              "robert   4816785            221924\n",
              "michael  4330805            203823\n",
              "mary     4130441            196244"
            ],
            "text/html": [
              "\n",
              "\n",
              "  <div id=\"df-c50abd81-2bbc-48b1-8ed2-3536422b9196\">\n",
              "    <div class=\"colab-df-container\">\n",
              "      <div>\n",
              "<style scoped>\n",
              "    .dataframe tbody tr th:only-of-type {\n",
              "        vertical-align: middle;\n",
              "    }\n",
              "\n",
              "    .dataframe tbody tr th {\n",
              "        vertical-align: top;\n",
              "    }\n",
              "\n",
              "    .dataframe thead th {\n",
              "        text-align: right;\n",
              "    }\n",
              "</style>\n",
              "<table border=\"1\" class=\"dataframe\">\n",
              "  <thead>\n",
              "    <tr style=\"text-align: right;\">\n",
              "      <th></th>\n",
              "      <th>Count</th>\n",
              "      <th>count_normalized</th>\n",
              "    </tr>\n",
              "    <tr>\n",
              "      <th>Name</th>\n",
              "      <th></th>\n",
              "      <th></th>\n",
              "    </tr>\n",
              "  </thead>\n",
              "  <tbody>\n",
              "    <tr>\n",
              "      <th>james</th>\n",
              "      <td>5129096</td>\n",
              "      <td>233363</td>\n",
              "    </tr>\n",
              "    <tr>\n",
              "      <th>john</th>\n",
              "      <td>5106590</td>\n",
              "      <td>232543</td>\n",
              "    </tr>\n",
              "    <tr>\n",
              "      <th>robert</th>\n",
              "      <td>4816785</td>\n",
              "      <td>221924</td>\n",
              "    </tr>\n",
              "    <tr>\n",
              "      <th>michael</th>\n",
              "      <td>4330805</td>\n",
              "      <td>203823</td>\n",
              "    </tr>\n",
              "    <tr>\n",
              "      <th>mary</th>\n",
              "      <td>4130441</td>\n",
              "      <td>196244</td>\n",
              "    </tr>\n",
              "  </tbody>\n",
              "</table>\n",
              "</div>\n",
              "      <button class=\"colab-df-convert\" onclick=\"convertToInteractive('df-c50abd81-2bbc-48b1-8ed2-3536422b9196')\"\n",
              "              title=\"Convert this dataframe to an interactive table.\"\n",
              "              style=\"display:none;\">\n",
              "\n",
              "  <svg xmlns=\"http://www.w3.org/2000/svg\" height=\"24px\"viewBox=\"0 0 24 24\"\n",
              "       width=\"24px\">\n",
              "    <path d=\"M0 0h24v24H0V0z\" fill=\"none\"/>\n",
              "    <path d=\"M18.56 5.44l.94 2.06.94-2.06 2.06-.94-2.06-.94-.94-2.06-.94 2.06-2.06.94zm-11 1L8.5 8.5l.94-2.06 2.06-.94-2.06-.94L8.5 2.5l-.94 2.06-2.06.94zm10 10l.94 2.06.94-2.06 2.06-.94-2.06-.94-.94-2.06-.94 2.06-2.06.94z\"/><path d=\"M17.41 7.96l-1.37-1.37c-.4-.4-.92-.59-1.43-.59-.52 0-1.04.2-1.43.59L10.3 9.45l-7.72 7.72c-.78.78-.78 2.05 0 2.83L4 21.41c.39.39.9.59 1.41.59.51 0 1.02-.2 1.41-.59l7.78-7.78 2.81-2.81c.8-.78.8-2.07 0-2.86zM5.41 20L4 18.59l7.72-7.72 1.47 1.35L5.41 20z\"/>\n",
              "  </svg>\n",
              "      </button>\n",
              "\n",
              "\n",
              "\n",
              "    <div id=\"df-f899513e-7b0c-42ff-a8ef-4474e9658d31\">\n",
              "      <button class=\"colab-df-quickchart\" onclick=\"quickchart('df-f899513e-7b0c-42ff-a8ef-4474e9658d31')\"\n",
              "              title=\"Suggest charts.\"\n",
              "              style=\"display:none;\">\n",
              "\n",
              "<svg xmlns=\"http://www.w3.org/2000/svg\" height=\"24px\"viewBox=\"0 0 24 24\"\n",
              "     width=\"24px\">\n",
              "    <g>\n",
              "        <path d=\"M19 3H5c-1.1 0-2 .9-2 2v14c0 1.1.9 2 2 2h14c1.1 0 2-.9 2-2V5c0-1.1-.9-2-2-2zM9 17H7v-7h2v7zm4 0h-2V7h2v10zm4 0h-2v-4h2v4z\"/>\n",
              "    </g>\n",
              "</svg>\n",
              "      </button>\n",
              "    </div>\n",
              "\n",
              "<style>\n",
              "  .colab-df-quickchart {\n",
              "    background-color: #E8F0FE;\n",
              "    border: none;\n",
              "    border-radius: 50%;\n",
              "    cursor: pointer;\n",
              "    display: none;\n",
              "    fill: #1967D2;\n",
              "    height: 32px;\n",
              "    padding: 0 0 0 0;\n",
              "    width: 32px;\n",
              "  }\n",
              "\n",
              "  .colab-df-quickchart:hover {\n",
              "    background-color: #E2EBFA;\n",
              "    box-shadow: 0px 1px 2px rgba(60, 64, 67, 0.3), 0px 1px 3px 1px rgba(60, 64, 67, 0.15);\n",
              "    fill: #174EA6;\n",
              "  }\n",
              "\n",
              "  [theme=dark] .colab-df-quickchart {\n",
              "    background-color: #3B4455;\n",
              "    fill: #D2E3FC;\n",
              "  }\n",
              "\n",
              "  [theme=dark] .colab-df-quickchart:hover {\n",
              "    background-color: #434B5C;\n",
              "    box-shadow: 0px 1px 3px 1px rgba(0, 0, 0, 0.15);\n",
              "    filter: drop-shadow(0px 1px 2px rgba(0, 0, 0, 0.3));\n",
              "    fill: #FFFFFF;\n",
              "  }\n",
              "</style>\n",
              "\n",
              "    <script>\n",
              "      async function quickchart(key) {\n",
              "        const containerElement = document.querySelector('#' + key);\n",
              "        const charts = await google.colab.kernel.invokeFunction(\n",
              "            'suggestCharts', [key], {});\n",
              "      }\n",
              "    </script>\n",
              "\n",
              "      <script>\n",
              "\n",
              "function displayQuickchartButton(domScope) {\n",
              "  let quickchartButtonEl =\n",
              "    domScope.querySelector('#df-f899513e-7b0c-42ff-a8ef-4474e9658d31 button.colab-df-quickchart');\n",
              "  quickchartButtonEl.style.display =\n",
              "    google.colab.kernel.accessAllowed ? 'block' : 'none';\n",
              "}\n",
              "\n",
              "        displayQuickchartButton(document);\n",
              "      </script>\n",
              "      <style>\n",
              "    .colab-df-container {\n",
              "      display:flex;\n",
              "      flex-wrap:wrap;\n",
              "      gap: 12px;\n",
              "    }\n",
              "\n",
              "    .colab-df-convert {\n",
              "      background-color: #E8F0FE;\n",
              "      border: none;\n",
              "      border-radius: 50%;\n",
              "      cursor: pointer;\n",
              "      display: none;\n",
              "      fill: #1967D2;\n",
              "      height: 32px;\n",
              "      padding: 0 0 0 0;\n",
              "      width: 32px;\n",
              "    }\n",
              "\n",
              "    .colab-df-convert:hover {\n",
              "      background-color: #E2EBFA;\n",
              "      box-shadow: 0px 1px 2px rgba(60, 64, 67, 0.3), 0px 1px 3px 1px rgba(60, 64, 67, 0.15);\n",
              "      fill: #174EA6;\n",
              "    }\n",
              "\n",
              "    [theme=dark] .colab-df-convert {\n",
              "      background-color: #3B4455;\n",
              "      fill: #D2E3FC;\n",
              "    }\n",
              "\n",
              "    [theme=dark] .colab-df-convert:hover {\n",
              "      background-color: #434B5C;\n",
              "      box-shadow: 0px 1px 3px 1px rgba(0, 0, 0, 0.15);\n",
              "      filter: drop-shadow(0px 1px 2px rgba(0, 0, 0, 0.3));\n",
              "      fill: #FFFFFF;\n",
              "    }\n",
              "  </style>\n",
              "\n",
              "      <script>\n",
              "        const buttonEl =\n",
              "          document.querySelector('#df-c50abd81-2bbc-48b1-8ed2-3536422b9196 button.colab-df-convert');\n",
              "        buttonEl.style.display =\n",
              "          google.colab.kernel.accessAllowed ? 'block' : 'none';\n",
              "\n",
              "        async function convertToInteractive(key) {\n",
              "          const element = document.querySelector('#df-c50abd81-2bbc-48b1-8ed2-3536422b9196');\n",
              "          const dataTable =\n",
              "            await google.colab.kernel.invokeFunction('convertToInteractive',\n",
              "                                                     [key], {});\n",
              "          if (!dataTable) return;\n",
              "\n",
              "          const docLinkHtml = 'Like what you see? Visit the ' +\n",
              "            '<a target=\"_blank\" href=https://colab.research.google.com/notebooks/data_table.ipynb>data table notebook</a>'\n",
              "            + ' to learn more about interactive tables.';\n",
              "          element.innerHTML = '';\n",
              "          dataTable['output_type'] = 'display_data';\n",
              "          await google.colab.output.renderOutput(dataTable, element);\n",
              "          const docLink = document.createElement('div');\n",
              "          docLink.innerHTML = docLinkHtml;\n",
              "          element.appendChild(docLink);\n",
              "        }\n",
              "      </script>\n",
              "    </div>\n",
              "  </div>\n"
            ]
          },
          "metadata": {},
          "execution_count": 11
        }
      ],
      "source": [
        "# Applying Alpha Transform to reduce impact of outliers\n",
        "\n",
        "alpha = 0.8\n",
        "names['count_normalized'] = names['Count'].apply(lambda x: np.power(x, alpha)).apply(int)\n",
        "names.head()"
      ]
    },
    {
      "cell_type": "code",
      "execution_count": 12,
      "metadata": {
        "colab": {
          "base_uri": "https://localhost:8080/",
          "height": 238
        },
        "id": "23-ia5uNxkWP",
        "outputId": "fbb98c8a-c0fb-45b8-e311-755016543043"
      },
      "outputs": [
        {
          "output_type": "execute_result",
          "data": {
            "text/plain": [
              "           Count  count_normalized  proportion\n",
              "Name                                          \n",
              "james    5129096            233363    0.007302\n",
              "john     5106590            232543    0.007276\n",
              "robert   4816785            221924    0.006944\n",
              "michael  4330805            203823    0.006378\n",
              "mary     4130441            196244    0.006140"
            ],
            "text/html": [
              "\n",
              "\n",
              "  <div id=\"df-cb93f94b-8f59-408e-9827-3d3bcc696afc\">\n",
              "    <div class=\"colab-df-container\">\n",
              "      <div>\n",
              "<style scoped>\n",
              "    .dataframe tbody tr th:only-of-type {\n",
              "        vertical-align: middle;\n",
              "    }\n",
              "\n",
              "    .dataframe tbody tr th {\n",
              "        vertical-align: top;\n",
              "    }\n",
              "\n",
              "    .dataframe thead th {\n",
              "        text-align: right;\n",
              "    }\n",
              "</style>\n",
              "<table border=\"1\" class=\"dataframe\">\n",
              "  <thead>\n",
              "    <tr style=\"text-align: right;\">\n",
              "      <th></th>\n",
              "      <th>Count</th>\n",
              "      <th>count_normalized</th>\n",
              "      <th>proportion</th>\n",
              "    </tr>\n",
              "    <tr>\n",
              "      <th>Name</th>\n",
              "      <th></th>\n",
              "      <th></th>\n",
              "      <th></th>\n",
              "    </tr>\n",
              "  </thead>\n",
              "  <tbody>\n",
              "    <tr>\n",
              "      <th>james</th>\n",
              "      <td>5129096</td>\n",
              "      <td>233363</td>\n",
              "      <td>0.007302</td>\n",
              "    </tr>\n",
              "    <tr>\n",
              "      <th>john</th>\n",
              "      <td>5106590</td>\n",
              "      <td>232543</td>\n",
              "      <td>0.007276</td>\n",
              "    </tr>\n",
              "    <tr>\n",
              "      <th>robert</th>\n",
              "      <td>4816785</td>\n",
              "      <td>221924</td>\n",
              "      <td>0.006944</td>\n",
              "    </tr>\n",
              "    <tr>\n",
              "      <th>michael</th>\n",
              "      <td>4330805</td>\n",
              "      <td>203823</td>\n",
              "      <td>0.006378</td>\n",
              "    </tr>\n",
              "    <tr>\n",
              "      <th>mary</th>\n",
              "      <td>4130441</td>\n",
              "      <td>196244</td>\n",
              "      <td>0.006140</td>\n",
              "    </tr>\n",
              "  </tbody>\n",
              "</table>\n",
              "</div>\n",
              "      <button class=\"colab-df-convert\" onclick=\"convertToInteractive('df-cb93f94b-8f59-408e-9827-3d3bcc696afc')\"\n",
              "              title=\"Convert this dataframe to an interactive table.\"\n",
              "              style=\"display:none;\">\n",
              "\n",
              "  <svg xmlns=\"http://www.w3.org/2000/svg\" height=\"24px\"viewBox=\"0 0 24 24\"\n",
              "       width=\"24px\">\n",
              "    <path d=\"M0 0h24v24H0V0z\" fill=\"none\"/>\n",
              "    <path d=\"M18.56 5.44l.94 2.06.94-2.06 2.06-.94-2.06-.94-.94-2.06-.94 2.06-2.06.94zm-11 1L8.5 8.5l.94-2.06 2.06-.94-2.06-.94L8.5 2.5l-.94 2.06-2.06.94zm10 10l.94 2.06.94-2.06 2.06-.94-2.06-.94-.94-2.06-.94 2.06-2.06.94z\"/><path d=\"M17.41 7.96l-1.37-1.37c-.4-.4-.92-.59-1.43-.59-.52 0-1.04.2-1.43.59L10.3 9.45l-7.72 7.72c-.78.78-.78 2.05 0 2.83L4 21.41c.39.39.9.59 1.41.59.51 0 1.02-.2 1.41-.59l7.78-7.78 2.81-2.81c.8-.78.8-2.07 0-2.86zM5.41 20L4 18.59l7.72-7.72 1.47 1.35L5.41 20z\"/>\n",
              "  </svg>\n",
              "      </button>\n",
              "\n",
              "\n",
              "\n",
              "    <div id=\"df-ca75cc76-bec8-44f2-8283-4dac8c074c4b\">\n",
              "      <button class=\"colab-df-quickchart\" onclick=\"quickchart('df-ca75cc76-bec8-44f2-8283-4dac8c074c4b')\"\n",
              "              title=\"Suggest charts.\"\n",
              "              style=\"display:none;\">\n",
              "\n",
              "<svg xmlns=\"http://www.w3.org/2000/svg\" height=\"24px\"viewBox=\"0 0 24 24\"\n",
              "     width=\"24px\">\n",
              "    <g>\n",
              "        <path d=\"M19 3H5c-1.1 0-2 .9-2 2v14c0 1.1.9 2 2 2h14c1.1 0 2-.9 2-2V5c0-1.1-.9-2-2-2zM9 17H7v-7h2v7zm4 0h-2V7h2v10zm4 0h-2v-4h2v4z\"/>\n",
              "    </g>\n",
              "</svg>\n",
              "      </button>\n",
              "    </div>\n",
              "\n",
              "<style>\n",
              "  .colab-df-quickchart {\n",
              "    background-color: #E8F0FE;\n",
              "    border: none;\n",
              "    border-radius: 50%;\n",
              "    cursor: pointer;\n",
              "    display: none;\n",
              "    fill: #1967D2;\n",
              "    height: 32px;\n",
              "    padding: 0 0 0 0;\n",
              "    width: 32px;\n",
              "  }\n",
              "\n",
              "  .colab-df-quickchart:hover {\n",
              "    background-color: #E2EBFA;\n",
              "    box-shadow: 0px 1px 2px rgba(60, 64, 67, 0.3), 0px 1px 3px 1px rgba(60, 64, 67, 0.15);\n",
              "    fill: #174EA6;\n",
              "  }\n",
              "\n",
              "  [theme=dark] .colab-df-quickchart {\n",
              "    background-color: #3B4455;\n",
              "    fill: #D2E3FC;\n",
              "  }\n",
              "\n",
              "  [theme=dark] .colab-df-quickchart:hover {\n",
              "    background-color: #434B5C;\n",
              "    box-shadow: 0px 1px 3px 1px rgba(0, 0, 0, 0.15);\n",
              "    filter: drop-shadow(0px 1px 2px rgba(0, 0, 0, 0.3));\n",
              "    fill: #FFFFFF;\n",
              "  }\n",
              "</style>\n",
              "\n",
              "    <script>\n",
              "      async function quickchart(key) {\n",
              "        const containerElement = document.querySelector('#' + key);\n",
              "        const charts = await google.colab.kernel.invokeFunction(\n",
              "            'suggestCharts', [key], {});\n",
              "      }\n",
              "    </script>\n",
              "\n",
              "      <script>\n",
              "\n",
              "function displayQuickchartButton(domScope) {\n",
              "  let quickchartButtonEl =\n",
              "    domScope.querySelector('#df-ca75cc76-bec8-44f2-8283-4dac8c074c4b button.colab-df-quickchart');\n",
              "  quickchartButtonEl.style.display =\n",
              "    google.colab.kernel.accessAllowed ? 'block' : 'none';\n",
              "}\n",
              "\n",
              "        displayQuickchartButton(document);\n",
              "      </script>\n",
              "      <style>\n",
              "    .colab-df-container {\n",
              "      display:flex;\n",
              "      flex-wrap:wrap;\n",
              "      gap: 12px;\n",
              "    }\n",
              "\n",
              "    .colab-df-convert {\n",
              "      background-color: #E8F0FE;\n",
              "      border: none;\n",
              "      border-radius: 50%;\n",
              "      cursor: pointer;\n",
              "      display: none;\n",
              "      fill: #1967D2;\n",
              "      height: 32px;\n",
              "      padding: 0 0 0 0;\n",
              "      width: 32px;\n",
              "    }\n",
              "\n",
              "    .colab-df-convert:hover {\n",
              "      background-color: #E2EBFA;\n",
              "      box-shadow: 0px 1px 2px rgba(60, 64, 67, 0.3), 0px 1px 3px 1px rgba(60, 64, 67, 0.15);\n",
              "      fill: #174EA6;\n",
              "    }\n",
              "\n",
              "    [theme=dark] .colab-df-convert {\n",
              "      background-color: #3B4455;\n",
              "      fill: #D2E3FC;\n",
              "    }\n",
              "\n",
              "    [theme=dark] .colab-df-convert:hover {\n",
              "      background-color: #434B5C;\n",
              "      box-shadow: 0px 1px 3px 1px rgba(0, 0, 0, 0.15);\n",
              "      filter: drop-shadow(0px 1px 2px rgba(0, 0, 0, 0.3));\n",
              "      fill: #FFFFFF;\n",
              "    }\n",
              "  </style>\n",
              "\n",
              "      <script>\n",
              "        const buttonEl =\n",
              "          document.querySelector('#df-cb93f94b-8f59-408e-9827-3d3bcc696afc button.colab-df-convert');\n",
              "        buttonEl.style.display =\n",
              "          google.colab.kernel.accessAllowed ? 'block' : 'none';\n",
              "\n",
              "        async function convertToInteractive(key) {\n",
              "          const element = document.querySelector('#df-cb93f94b-8f59-408e-9827-3d3bcc696afc');\n",
              "          const dataTable =\n",
              "            await google.colab.kernel.invokeFunction('convertToInteractive',\n",
              "                                                     [key], {});\n",
              "          if (!dataTable) return;\n",
              "\n",
              "          const docLinkHtml = 'Like what you see? Visit the ' +\n",
              "            '<a target=\"_blank\" href=https://colab.research.google.com/notebooks/data_table.ipynb>data table notebook</a>'\n",
              "            + ' to learn more about interactive tables.';\n",
              "          element.innerHTML = '';\n",
              "          dataTable['output_type'] = 'display_data';\n",
              "          await google.colab.output.renderOutput(dataTable, element);\n",
              "          const docLink = document.createElement('div');\n",
              "          docLink.innerHTML = docLinkHtml;\n",
              "          element.appendChild(docLink);\n",
              "        }\n",
              "      </script>\n",
              "    </div>\n",
              "  </div>\n"
            ]
          },
          "metadata": {},
          "execution_count": 12
        }
      ],
      "source": [
        "# calculating the proportion of each name's count\n",
        "\n",
        "names['proportion'] = names['count_normalized'] / names['count_normalized'].sum()\n",
        "names.head()"
      ]
    },
    {
      "cell_type": "code",
      "source": [
        "sz = len(df['Name']) // 10\n",
        "sz"
      ],
      "metadata": {
        "colab": {
          "base_uri": "https://localhost:8080/"
        },
        "id": "MdwE5nPBzosy",
        "outputId": "6e6b4f56-8f5f-468d-99be-8411ac20340c"
      },
      "execution_count": 13,
      "outputs": [
        {
          "output_type": "execute_result",
          "data": {
            "text/plain": [
              "182543"
            ]
          },
          "metadata": {},
          "execution_count": 13
        }
      ]
    },
    {
      "cell_type": "code",
      "execution_count": 14,
      "metadata": {
        "colab": {
          "base_uri": "https://localhost:8080/"
        },
        "id": "bnpnOA3SxkWP",
        "outputId": "8f74ab8e-074a-4f38-96fd-a212c02a564c"
      },
      "outputs": [
        {
          "output_type": "stream",
          "name": "stdout",
          "text": [
            "182543\n",
            "['lonnie' 'kiley' 'elena' 'peyton' 'kristen' 'tessa' 'lucas' 'karalee'\n",
            " 'trenisha' 'carrie' 'yaritza' 'grant' 'kendall' 'orlean' 'elizabeth'\n",
            " 'barbara' 'robert' 'ema' 'uriah' 'paden' 'gresham' 'brandan' 'rosa'\n",
            " 'deonte' 'susan' 'liliana' 'ryan' 'wilfrido' 'cora' 'mason' 'jordan'\n",
            " 'kami' 'manuel' 'kurt' 'robert' 'salvatore' 'giovanni' 'erma' 'ilyse'\n",
            " 'cary' 'josephine' 'ava' 'vance' 'thomas' 'patrice' 'janine' 'virginia'\n",
            " 'jessica' 'danielle' 'leonard']\n"
          ]
        }
      ],
      "source": [
        "# Randomnly selecting the names from dataset\n",
        "\n",
        "np.random.seed(0) # making sure that the random number is same-ish each time\n",
        "names_list = np.random.choice(names.index, size=sz, p=names['proportion'], replace=True)\n",
        "print(len(names_list))\n",
        "print(names_list[:50])"
      ]
    },
    {
      "cell_type": "code",
      "execution_count": 15,
      "metadata": {
        "colab": {
          "base_uri": "https://localhost:8080/"
        },
        "id": "UGG-ZIKwxkWP",
        "outputId": "7ce3495a-0742-4327-d48d-55f64e4dab20"
      },
      "outputs": [
        {
          "output_type": "execute_result",
          "data": {
            "text/plain": [
              "james      1343\n",
              "john       1294\n",
              "robert     1279\n",
              "michael    1149\n",
              "william    1144\n",
              "           ... \n",
              "sahiti        1\n",
              "cassi         1\n",
              "jeannee       1\n",
              "allanah       1\n",
              "laziah        1\n",
              "Length: 23460, dtype: int64"
            ]
          },
          "metadata": {},
          "execution_count": 15
        }
      ],
      "source": [
        "pd.Series(names_list).value_counts()"
      ]
    },
    {
      "cell_type": "code",
      "execution_count": 16,
      "metadata": {
        "colab": {
          "base_uri": "https://localhost:8080/"
        },
        "id": "A3obOYjexkWQ",
        "outputId": "331b14f6-98f4-4dcf-a75a-13e70fbfed96"
      },
      "outputs": [
        {
          "output_type": "stream",
          "name": "stdout",
          "text": [
            "{'a': 0, 'b': 1, 'c': 2, 'd': 3, 'e': 4, 'f': 5, 'g': 6, 'h': 7, 'i': 8, 'j': 9, 'k': 10, 'l': 11, 'm': 12, 'n': 13, 'o': 14, 'p': 15, 'q': 16, 'r': 17, 's': 18, 't': 19, 'u': 20, 'v': 21, 'w': 22, 'x': 23, 'y': 24, 'z': 25, '.': 26}\n",
            "{0: 'a', 1: 'b', 2: 'c', 3: 'd', 4: 'e', 5: 'f', 6: 'g', 7: 'h', 8: 'i', 9: 'j', 10: 'k', 11: 'l', 12: 'm', 13: 'n', 14: 'o', 15: 'p', 16: 'q', 17: 'r', 18: 's', 19: 't', 20: 'u', 21: 'v', 22: 'w', 23: 'x', 24: 'y', 25: 'z', 26: '.'}\n"
          ]
        }
      ],
      "source": [
        "# Utility sets for easy numeric conversion\n",
        "\n",
        "char_to_id = {c:i for i, c in enumerate(string.ascii_lowercase + \".\")}\n",
        "id_to_char = {v:k for k, v in char_to_id.items()}\n",
        "print(char_to_id)\n",
        "print(id_to_char)"
      ]
    },
    {
      "cell_type": "code",
      "execution_count": 17,
      "metadata": {
        "colab": {
          "base_uri": "https://localhost:8080/"
        },
        "id": "9wQlvFptxkWQ",
        "outputId": "7bc700ff-6984-4c7e-b001-0fa82e52c5fa"
      },
      "outputs": [
        {
          "output_type": "stream",
          "name": "stdout",
          "text": [
            "15\n"
          ]
        }
      ],
      "source": [
        "print(max_length)"
      ]
    },
    {
      "cell_type": "code",
      "source": [
        "num_chars = len(char_to_id) # 26 lower case alphabets and '.'\n",
        "num_chars"
      ],
      "metadata": {
        "colab": {
          "base_uri": "https://localhost:8080/"
        },
        "id": "qFMq0iPt0ugy",
        "outputId": "b1277835-a5e4-48db-ad76-9b0f406489c4"
      },
      "execution_count": 18,
      "outputs": [
        {
          "output_type": "execute_result",
          "data": {
            "text/plain": [
              "27"
            ]
          },
          "metadata": {},
          "execution_count": 18
        }
      ]
    },
    {
      "cell_type": "code",
      "execution_count": 20,
      "metadata": {
        "id": "Vvtc9_tdxkWQ"
      },
      "outputs": [],
      "source": [
        "class NamesDataset(Dataset):\n",
        "\n",
        "    def __init__(self, names_list):\n",
        "        self.names_list = names_list\n",
        "\n",
        "    def __len__(self):\n",
        "        return len(self.names_list)\n",
        "\n",
        "    def __getitem__(self, idx):\n",
        "        x_str = self.names_list[idx].ljust(max_length, \".\")[:max_length] # adding \".\" as a padding for shorter names using \"Left Justification\" method\n",
        "        y_str = x_str[1:] + \".\" # creating string with all characters shifted left by 1 and added \".\" as padding at the end\n",
        "\n",
        "        # initializing data tensors with zeros\n",
        "        x = torch.zeros((max_length, num_chars)) # 12 x 27\n",
        "        y = torch.zeros(max_length) # 12 x 1\n",
        "\n",
        "        # one-hot encoding\n",
        "        for i, c in enumerate(x_str):\n",
        "            x[i, char_to_id[c]] = 1 # setting 1 to corrosponding character\n",
        "\n",
        "        for i, c in enumerate(y_str):\n",
        "            y[i] = char_to_id[c]\n",
        "\n",
        "        return x, y"
      ]
    },
    {
      "cell_type": "code",
      "execution_count": 21,
      "metadata": {
        "id": "-AcrzCuyxkWQ"
      },
      "outputs": [],
      "source": [
        "trainset = NamesDataset(names_list)"
      ]
    },
    {
      "cell_type": "code",
      "source": [
        "# checking the trainset data\n",
        "\n",
        "print(trainset[0])"
      ],
      "metadata": {
        "colab": {
          "base_uri": "https://localhost:8080/"
        },
        "id": "byyZBhk162GU",
        "outputId": "4ecc19e0-0d60-4459-f7a0-471d95b4b469"
      },
      "execution_count": 22,
      "outputs": [
        {
          "output_type": "stream",
          "name": "stdout",
          "text": [
            "(tensor([[0., 0., 0., 0., 0., 0., 0., 0., 0., 0., 0., 1., 0., 0., 0., 0., 0., 0.,\n",
            "         0., 0., 0., 0., 0., 0., 0., 0., 0.],\n",
            "        [0., 0., 0., 0., 0., 0., 0., 0., 0., 0., 0., 0., 0., 0., 1., 0., 0., 0.,\n",
            "         0., 0., 0., 0., 0., 0., 0., 0., 0.],\n",
            "        [0., 0., 0., 0., 0., 0., 0., 0., 0., 0., 0., 0., 0., 1., 0., 0., 0., 0.,\n",
            "         0., 0., 0., 0., 0., 0., 0., 0., 0.],\n",
            "        [0., 0., 0., 0., 0., 0., 0., 0., 0., 0., 0., 0., 0., 1., 0., 0., 0., 0.,\n",
            "         0., 0., 0., 0., 0., 0., 0., 0., 0.],\n",
            "        [0., 0., 0., 0., 0., 0., 0., 0., 1., 0., 0., 0., 0., 0., 0., 0., 0., 0.,\n",
            "         0., 0., 0., 0., 0., 0., 0., 0., 0.],\n",
            "        [0., 0., 0., 0., 1., 0., 0., 0., 0., 0., 0., 0., 0., 0., 0., 0., 0., 0.,\n",
            "         0., 0., 0., 0., 0., 0., 0., 0., 0.],\n",
            "        [0., 0., 0., 0., 0., 0., 0., 0., 0., 0., 0., 0., 0., 0., 0., 0., 0., 0.,\n",
            "         0., 0., 0., 0., 0., 0., 0., 0., 1.],\n",
            "        [0., 0., 0., 0., 0., 0., 0., 0., 0., 0., 0., 0., 0., 0., 0., 0., 0., 0.,\n",
            "         0., 0., 0., 0., 0., 0., 0., 0., 1.],\n",
            "        [0., 0., 0., 0., 0., 0., 0., 0., 0., 0., 0., 0., 0., 0., 0., 0., 0., 0.,\n",
            "         0., 0., 0., 0., 0., 0., 0., 0., 1.],\n",
            "        [0., 0., 0., 0., 0., 0., 0., 0., 0., 0., 0., 0., 0., 0., 0., 0., 0., 0.,\n",
            "         0., 0., 0., 0., 0., 0., 0., 0., 1.],\n",
            "        [0., 0., 0., 0., 0., 0., 0., 0., 0., 0., 0., 0., 0., 0., 0., 0., 0., 0.,\n",
            "         0., 0., 0., 0., 0., 0., 0., 0., 1.],\n",
            "        [0., 0., 0., 0., 0., 0., 0., 0., 0., 0., 0., 0., 0., 0., 0., 0., 0., 0.,\n",
            "         0., 0., 0., 0., 0., 0., 0., 0., 1.],\n",
            "        [0., 0., 0., 0., 0., 0., 0., 0., 0., 0., 0., 0., 0., 0., 0., 0., 0., 0.,\n",
            "         0., 0., 0., 0., 0., 0., 0., 0., 1.],\n",
            "        [0., 0., 0., 0., 0., 0., 0., 0., 0., 0., 0., 0., 0., 0., 0., 0., 0., 0.,\n",
            "         0., 0., 0., 0., 0., 0., 0., 0., 1.],\n",
            "        [0., 0., 0., 0., 0., 0., 0., 0., 0., 0., 0., 0., 0., 0., 0., 0., 0., 0.,\n",
            "         0., 0., 0., 0., 0., 0., 0., 0., 1.]]), tensor([14., 13., 13.,  8.,  4., 26., 26., 26., 26., 26., 26., 26., 26., 26.,\n",
            "        26.]))\n"
          ]
        }
      ]
    },
    {
      "cell_type": "code",
      "execution_count": 23,
      "metadata": {
        "id": "TsDWzeO4xkWQ"
      },
      "outputs": [],
      "source": [
        "train_batch_size = 150"
      ]
    },
    {
      "cell_type": "code",
      "execution_count": 24,
      "metadata": {
        "colab": {
          "base_uri": "https://localhost:8080/"
        },
        "id": "on064bvoxkWQ",
        "outputId": "29b80a3e-7e3a-4781-bb05-586eb51b78ae"
      },
      "outputs": [
        {
          "output_type": "stream",
          "name": "stdout",
          "text": [
            "2\n"
          ]
        }
      ],
      "source": [
        "import os\n",
        "\n",
        "cpu_count = os.cpu_count()\n",
        "print(cpu_count)"
      ]
    },
    {
      "cell_type": "code",
      "execution_count": 25,
      "metadata": {
        "colab": {
          "base_uri": "https://localhost:8080/"
        },
        "id": "YvJf-RkNxkWQ",
        "outputId": "9147e897-acdb-4231-b622-a9e9876b9e76"
      },
      "outputs": [
        {
          "output_type": "stream",
          "name": "stdout",
          "text": [
            "Number of batches in the Data Loader is 1217\n"
          ]
        }
      ],
      "source": [
        "train_loader = DataLoader(trainset, batch_size=train_batch_size, shuffle=True, num_workers=cpu_count)\n",
        "print(\"Number of batches in the Data Loader is\", len(train_loader))"
      ]
    },
    {
      "cell_type": "code",
      "execution_count": 26,
      "metadata": {
        "colab": {
          "base_uri": "https://localhost:8080/"
        },
        "id": "JwoJR36LxkWQ",
        "outputId": "3591d876-2a70-4ff5-d433-cb7177fe0470"
      },
      "outputs": [
        {
          "output_type": "stream",
          "name": "stdout",
          "text": [
            "torch.Size([150, 15, 27]) torch.Size([150, 15])\n"
          ]
        }
      ],
      "source": [
        "# Checking out 1 element of data loader\n",
        "\n",
        "train_iter = iter(train_loader)\n",
        "X, Y = next(train_iter)\n",
        "print(X.size(), Y.size())"
      ]
    },
    {
      "cell_type": "markdown",
      "metadata": {
        "id": "1vHFn1ZqxkWQ"
      },
      "source": [
        "## Model architecture"
      ]
    },
    {
      "cell_type": "code",
      "execution_count": 27,
      "metadata": {
        "colab": {
          "base_uri": "https://localhost:8080/"
        },
        "id": "I7Vs1w3UxkWR",
        "outputId": "541013e7-5e07-4550-c2a2-d347bb6bd97b"
      },
      "outputs": [
        {
          "output_type": "execute_result",
          "data": {
            "text/plain": [
              "device(type='cuda', index=0)"
            ]
          },
          "metadata": {},
          "execution_count": 27
        }
      ],
      "source": [
        "# Using GPU if available\n",
        "\n",
        "device = \"cuda:0\" if torch.cuda.is_available() else \"cpu\"\n",
        "device = torch.device(device)\n",
        "device"
      ]
    },
    {
      "cell_type": "markdown",
      "source": [
        "<!-- ![LSTM Illustration](https://colah.github.io/posts/2015-08-Understanding-LSTMs/img/LSTM3-chain.png) -->\n",
        "\n",
        "![LSTM Example](https://livecodestream.dev/post/lstm-based-name-generator-first-dive-into-nlp/lstm-cell_hu1f74fdfa71fd76b4ba5a9ca5c516a9b0_65012_700x0_resize_q90_h2_lanczos_3.webp)"
      ],
      "metadata": {
        "id": "cNj0xh1l9yxe"
      }
    },
    {
      "cell_type": "code",
      "execution_count": 28,
      "metadata": {
        "id": "GusleEZdxkWR"
      },
      "outputs": [],
      "source": [
        "class Model(nn.Module):\n",
        "\n",
        "    def __init__(self, input_size, hidden_size, output_size, num_layers):\n",
        "        super(Model, self).__init__() # initializing inherited class Module\n",
        "\n",
        "        # sizes\n",
        "        self.input_size = input_size\n",
        "        self.hidden_size = hidden_size # number of neurons in LSTM, (higher val => higher overfitting)\n",
        "        self.num_layers = num_layers # # number of recurrent (LSTM) layers\n",
        "\n",
        "        # LSTM layer\n",
        "        self.lstm = nn.LSTM(input_size=input_size, hidden_size=hidden_size, num_layers=num_layers, batch_first=True)\n",
        "\n",
        "        # fully connected layers\n",
        "        self.fc_1 = nn.Linear(hidden_size, output_size)\n",
        "        self.fc_2 = nn.Linear(output_size, output_size)\n",
        "\n",
        "    def forward(self, X, states):\n",
        "        ht, ct = states # hidden state and the cell state of LSTM\n",
        "\n",
        "        batch_size = X.size(0)\n",
        "\n",
        "        out, (ht, ct) = self.lstm(X, (ht, ct))\n",
        "\n",
        "        out = self.fc_1(out)\n",
        "        out = F.relu(out) # ReLU is used to avoid vanishing gradient problem\n",
        "        out = self.fc_2(out)\n",
        "\n",
        "        return out, (ht, ct) # out: Size([batch_size, max_length, num_chars])"
      ]
    },
    {
      "cell_type": "code",
      "execution_count": 29,
      "metadata": {
        "colab": {
          "base_uri": "https://localhost:8080/"
        },
        "id": "c-XgVadrxkWR",
        "outputId": "a755ca98-09f2-4165-de3e-ab2eff428fdf"
      },
      "outputs": [
        {
          "output_type": "execute_result",
          "data": {
            "text/plain": [
              "DataParallel(\n",
              "  (module): Model(\n",
              "    (lstm): LSTM(27, 50, batch_first=True)\n",
              "    (fc_1): Linear(in_features=50, out_features=27, bias=True)\n",
              "    (fc_2): Linear(in_features=27, out_features=27, bias=True)\n",
              "  )\n",
              ")"
            ]
          },
          "metadata": {},
          "execution_count": 29
        }
      ],
      "source": [
        "num_layers = 1\n",
        "hidden_size = 50\n",
        "\n",
        "model = Model(input_size=num_chars, hidden_size=hidden_size, output_size=num_chars, num_layers=num_layers)\n",
        "model = nn.DataParallel(model) # allows parallel training on multiple GPUs\n",
        "model = model.to(device) # moving model to GPU if available\n",
        "model"
      ]
    },
    {
      "cell_type": "code",
      "execution_count": 30,
      "metadata": {
        "id": "wNnIqREIxkWR"
      },
      "outputs": [],
      "source": [
        "# initializing state tensors\n",
        "\n",
        "ht = torch.zeros((num_layers, train_batch_size, hidden_size)).to(device) # moving to GPU at the end\n",
        "ct = torch.zeros((num_layers, train_batch_size, hidden_size)).to(device)\n"
      ]
    },
    {
      "cell_type": "code",
      "execution_count": 31,
      "metadata": {
        "colab": {
          "base_uri": "https://localhost:8080/"
        },
        "id": "2aAa9n7KxkWR",
        "outputId": "c98f0c60-2630-4c31-e75c-b63155ff51fa"
      },
      "outputs": [
        {
          "output_type": "stream",
          "name": "stdout",
          "text": [
            "1217\n"
          ]
        }
      ],
      "source": [
        "lr = 5 * 1e-3 # Learning Rate\n",
        "gamma = 0.1 # factor by which to reduce the learning rate\n",
        "\n",
        "step_size = len(train_loader) # step size for the learning rate scheduler, which means the learning rate will be reduced every epoch\n",
        "print(step_size)"
      ]
    },
    {
      "cell_type": "code",
      "execution_count": 32,
      "metadata": {
        "id": "_93nzFXexkWR"
      },
      "outputs": [],
      "source": [
        "criterion = nn.CrossEntropyLoss(reduction='mean') # Loss Function\n",
        "optimizer = optim.Adam(model.parameters(), lr=lr)\n",
        "lr_scheduler = optim.lr_scheduler.StepLR(optimizer=optimizer, step_size=step_size, gamma=gamma) # reduces the learning rate by a factor of gamma every step_size iterations"
      ]
    },
    {
      "cell_type": "code",
      "execution_count": 33,
      "metadata": {
        "id": "zjaQxcm6xkWR"
      },
      "outputs": [],
      "source": [
        "def generate_name(model, start='j', k=5):\n",
        "    \"\"\"\n",
        "    model: trained model\n",
        "    start: string to start name with, bydefaule it's 'j'\n",
        "    k: the model selects the top 'k' probable characters from the output and randomly selects one from them as the next character\n",
        "    \"\"\"\n",
        "\n",
        "    # Not generating names longer than max_length (here 12)\n",
        "    if len(start) >= max_length:\n",
        "        return name\n",
        "\n",
        "    with torch.no_grad(): # since no need to compute gradients for following operations\n",
        "\n",
        "        # initializing hidden and cell states\n",
        "        ht = torch.zeros((num_layers, 1, hidden_size)).to(device)\n",
        "        ct = torch.zeros((num_layers, 1, hidden_size)).to(device)\n",
        "\n",
        "        length = 0\n",
        "        name = start\n",
        "\n",
        "        # initialize the hidden and cell states for the LSTM network\n",
        "        for char in start:\n",
        "            X = torch.zeros((1, 1, num_chars)) # initializing one-hot encoded vector, [batch_size, timestep, num_chars]\n",
        "            X[0, 0, char_to_id[char]] = 1 # one-hot encoding\n",
        "\n",
        "            out, (ht, ct) = model(X, (ht, ct)) # generating next character\n",
        "\n",
        "            length += 1\n",
        "\n",
        "        # Generating first new character\n",
        "        vals, idxs = torch.topk(out[0], k) # top k most probable characters\n",
        "\n",
        "        idx = np.random.choice(idxs.cpu().numpy()[0]) # selecting 1 of top k character randomnly\n",
        "        char = id_to_char[idx]\n",
        "\n",
        "        # Generating new characters, until we reach max length or generated character is \".\"\n",
        "        while char != \".\" and length <= max_length-1:\n",
        "            X = torch.zeros((1, 1, num_chars)) # args = (batch_size, timestep, num_chars)\n",
        "            X[0, 0, char_to_id[char]] = 1\n",
        "\n",
        "            out, (ht, ct) = model(X, (ht, ct))\n",
        "\n",
        "            vals, idxs = torch.topk(out[0], k)\n",
        "            idx = np.random.choice(idxs.cpu().numpy()[0])\n",
        "            char = id_to_char[idx]\n",
        "\n",
        "            length += 1\n",
        "            name += char\n",
        "\n",
        "    return name"
      ]
    },
    {
      "cell_type": "code",
      "execution_count": 34,
      "metadata": {
        "id": "ogvuF84WxkWS"
      },
      "outputs": [],
      "source": [
        "def sample_names(model, start='a', n=10, k=5, only_new=False):\n",
        "    \"\"\"\n",
        "    Generates 'n' sample names for given model\n",
        "    \"\"\"\n",
        "\n",
        "    names = []\n",
        "    chat_count = 0\n",
        "\n",
        "    while chat_count <= n:\n",
        "        name = generate_name(model=model, start=start, k=k)\n",
        "        if only_new:\n",
        "            if name not in names_list and name not in names:\n",
        "                names.append(name)\n",
        "                chat_count += 1\n",
        "        else:\n",
        "            if name not in names:\n",
        "                names.append(name)\n",
        "                chat_count += 1\n",
        "\n",
        "    names = [name[:-1].title() for name in names]\n",
        "\n",
        "    return names"
      ]
    },
    {
      "cell_type": "markdown",
      "metadata": {
        "id": "1cuqvJmQxkWS"
      },
      "source": [
        "## Model Training"
      ]
    },
    {
      "cell_type": "code",
      "execution_count": 35,
      "metadata": {
        "id": "9q_3l0tFxkWS"
      },
      "outputs": [],
      "source": [
        "# Tracking losses to plotting it later\n",
        "epoch_losses = []\n",
        "iteration_losses = []\n",
        "\n",
        "def fit(epochs, print_every):\n",
        "  for epoch in range(1, epochs+1):\n",
        "      # Resetting epoch variables\n",
        "      epoch_loss = 0\n",
        "      epoch_lr = 0\n",
        "\n",
        "      for i, (X, Y) in enumerate(train_loader, 1):\n",
        "          X, Y = X.to(device), Y.to(device) # Moving train data to GPU if available\n",
        "\n",
        "          # initializing hidden and cell states with zeros\n",
        "          ht = torch.zeros((num_layers, X.size(0), hidden_size)).to(device)\n",
        "          ct = torch.zeros((num_layers, X.size(0), hidden_size)).to(device)\n",
        "\n",
        "          optimizer.zero_grad() # Clearing old gradients, setting to zero\n",
        "\n",
        "          Y_pred_l, (ht, ct) = model(X, (ht, ct))\n",
        "          Y_pred_l = Y_pred_l.transpose(1, 2) # adjusting for loss function\n",
        "\n",
        "          loss = criterion(Y_pred_l, Y.long())\n",
        "          loss.backward(retain_graph=True) # Calculating gradients\n",
        "\n",
        "          optimizer.step()\n",
        "          lr_scheduler.step() # changing Learning Rate\n",
        "\n",
        "          iteration_losses.append(loss.item())\n",
        "          epoch_loss += loss.item()\n",
        "\n",
        "      epoch_loss /= len(train_loader)\n",
        "      epoch_losses.append(epoch_loss)\n",
        "\n",
        "      if epoch % print_every == 0:\n",
        "          print(\"Epoch:{} --> Loss:{}\".format(epoch, epoch_loss))\n",
        "          names = sample_names(model, start='jee', n=5, k=10, only_new=False)\n",
        "          print(names)"
      ]
    },
    {
      "cell_type": "code",
      "source": [
        "fit(10, 2)"
      ],
      "metadata": {
        "colab": {
          "base_uri": "https://localhost:8080/"
        },
        "id": "94-dP05sW5Ls",
        "outputId": "82c3ea84-4095-43d3-affc-109d41d3572e"
      },
      "execution_count": 36,
      "outputs": [
        {
          "output_type": "stream",
          "name": "stdout",
          "text": [
            "Epoch:2 --> Loss:0.5953111347352861\n",
            "['Jeedptrdto', 'Jeem', 'Jeee', 'Jeeh', 'Jeeasotsiu', 'Jeereercaytran']\n",
            "Epoch:4 --> Loss:0.583156813875808\n",
            "['Jeeoe', 'Jeei', 'Jeeienoslserhy', 'Je', 'Jeemrceyalesca', 'Jeeynntimondop']\n",
            "Epoch:6 --> Loss:0.583016227774671\n",
            "['Jeentanth', 'Jeemoerysabtyy', 'Jeephhyatoenlo', 'Je', 'Jeeylott', 'Jeeerarihurnat']\n",
            "Epoch:8 --> Loss:0.5830143714107836\n",
            "['Jeercesch', 'Je', 'Jeeyania', 'Jeetocoldru', 'Jeealleattiz', 'Jeetamo']\n",
            "Epoch:10 --> Loss:0.5830147138068984\n",
            "['Jeeod', 'Je', 'Jee', 'Jeenephtoentr', 'Jeesukkoysandy', 'Jeeyltandroyah']\n"
          ]
        }
      ]
    },
    {
      "cell_type": "code",
      "source": [
        "fit(5, 1)"
      ],
      "metadata": {
        "colab": {
          "base_uri": "https://localhost:8080/"
        },
        "id": "-euPWMYZWLZc",
        "outputId": "c9659639-3e63-427e-cc24-4ddec87d129c"
      },
      "execution_count": 37,
      "outputs": [
        {
          "output_type": "stream",
          "name": "stdout",
          "text": [
            "Epoch:1 --> Loss:0.5830149618249107\n",
            "['Jeeayaruadasai', 'Jeelipk', 'Jeeoep', 'Jee', 'Jeenyarieohsuz', 'Jeemon']\n",
            "Epoch:2 --> Loss:0.583014007709804\n",
            "['Jeepoep', 'Jeelnustyer', 'Jeeradetcufoel', 'Jeereyauaitlyz', 'Jeesmmmonsh', 'Jeetcaccioete']\n",
            "Epoch:3 --> Loss:0.5830135634911285\n",
            "['Jee', 'Jeeopiepyeslar', 'Jeet', 'Je', 'Jeeleizardieta', 'Jeeyllyduseikl']\n",
            "Epoch:4 --> Loss:0.5830144464430891\n",
            "['Jeeiicoanytytl', 'Jeetsarinatota', 'Jeeicks', 'Jeebttuyynzhe', 'Jeeysensystsun', 'Jeel']\n",
            "Epoch:5 --> Loss:0.583015616545446\n",
            "['Jeemaiyhenliss', 'Jeeylyeteyltol', 'Jeepyslyelsaig', 'Jeeoleyy', 'Jee', 'Je']\n"
          ]
        }
      ]
    },
    {
      "cell_type": "code",
      "source": [
        "fit(25, 5)"
      ],
      "metadata": {
        "colab": {
          "base_uri": "https://localhost:8080/"
        },
        "id": "rXMY2GuqAtSW",
        "outputId": "35cb9825-fc48-4e45-b370-b0e88ddf53a9"
      },
      "execution_count": 38,
      "outputs": [
        {
          "output_type": "stream",
          "name": "stdout",
          "text": [
            "Epoch:5 --> Loss:0.5830152035983939\n",
            "['Jeevltiseareli', 'Jeeoczc', 'Jee', 'Jeeoyennttahun', 'Jeetc', 'Jeeli']\n",
            "Epoch:10 --> Loss:0.583015278116444\n",
            "['Jeen', 'Jeeatituzyliez', 'Jeelcann', 'Jeeaegsuslyohe', 'Jeeeficoyncuts', 'Jeetp']\n",
            "Epoch:15 --> Loss:0.5830141149687786\n",
            "['Jeeh', 'Jeeslue', 'Jeerunseyltsl', 'Jeeatsorynzul', 'Jeeelonenkosop', 'Jeealdorthnisi']\n",
            "Epoch:20 --> Loss:0.5830140897947544\n",
            "['Jeeed', 'Jeellttttstrek', 'Jeetyiolatksi', 'Jeedue', 'Je', 'Jeesuamucttysh']\n",
            "Epoch:25 --> Loss:0.583015313134785\n",
            "['Jeedamnsin', 'Jeeicionzutynn', 'Jeeasal', 'Je', 'Jeehyunttackyt', 'Jeeioydlesn']\n"
          ]
        }
      ]
    },
    {
      "cell_type": "code",
      "source": [
        "fit(25, 1)"
      ],
      "metadata": {
        "colab": {
          "base_uri": "https://localhost:8080/"
        },
        "id": "js-FnaHCErFO",
        "outputId": "93883b81-c58e-417a-c869-7c9ee6e8c763"
      },
      "execution_count": 41,
      "outputs": [
        {
          "output_type": "stream",
          "name": "stdout",
          "text": [
            "Epoch:1 --> Loss:0.5830155137923279\n",
            "['Jeeancyz', 'Je', 'Jeeicannyzh', 'Jeeyelt', 'Jeeudesi', 'Jeescotcu']\n",
            "Epoch:2 --> Loss:0.58301441896716\n",
            "['Jeee', 'Jeea', 'Jeein', 'Je', 'Jee', 'Jeelnizer']\n",
            "Epoch:3 --> Loss:0.5830156830558056\n",
            "['Jeeaysa', 'Jeeydalethhhnu', 'Jeebyshzhhniu', 'Jeeynacysiuens', 'Jeeydnanertoer', 'Jeeoviepesu']\n",
            "Epoch:4 --> Loss:0.5830155631608422\n",
            "['Je', 'Jeeipyyzyendoh', 'Jeesy', 'Jeeyecizahovtn', 'Jeeshaiiucsaol', 'Jeeetyas']\n",
            "Epoch:5 --> Loss:0.58301477375438\n",
            "['Jeeisiithayasa', 'Jeeitsohydantr', 'Jeei', 'Je', 'Jeeldanyr', 'Jeer']\n",
            "Epoch:6 --> Loss:0.5830130998287029\n",
            "['Je', 'Jeehlasien', 'Jee', 'Jeeadytabnovof', 'Jeeasahh', 'Jeemol']\n",
            "Epoch:7 --> Loss:0.583014190686758\n",
            "['Jeeltyltt', 'Jeeshunns', 'Jeeytenrtynett', 'Jee', 'Jeentyay', 'Jeelyni']\n",
            "Epoch:8 --> Loss:0.5830162707762142\n",
            "['Jeeeyshe', 'Jeeonysz', 'Jeesheihuoezey', 'Jeepe', 'Je', 'Jeeuerts']\n",
            "Epoch:9 --> Loss:0.5830142567073505\n",
            "['Jeediepyynyuts', 'Jeeahysuethess', 'Jeet', 'Jeemi', 'Jeeoplroizh', 'Jee']\n",
            "Epoch:10 --> Loss:0.5830151422060995\n",
            "['Jeehabrhhyyare', 'Jeem', 'Jeepltoticera', 'Jeeprukttannru', 'Je', 'Jeey']\n",
            "Epoch:11 --> Loss:0.5830144334642634\n",
            "['Jeeyerhahsrona', 'Je', 'Jeeyteyntifens', 'Jeepoliancqqwy', 'Jeed', 'Jeebr']\n",
            "Epoch:12 --> Loss:0.5830148263798449\n",
            "['Jeeelinelael', 'Jeeeinevyuo', 'Jeeinucissotut', 'Jeesya', 'Jeeaniatyeomus', 'Jeetroc']\n",
            "Epoch:13 --> Loss:0.5830144612830295\n",
            "['Je', 'Jeee', 'Jeeolt', 'Jeeyeehshhamai', 'Jeeycodsis', 'Jeeruclysa']\n",
            "Epoch:14 --> Loss:0.5830136985198925\n",
            "['Jeeolccasioick', 'Jeeyto', 'Jeenckst', 'Jeeorkios', 'Jeehiniosiaynz', 'Jeelyasesszone']\n",
            "Epoch:15 --> Loss:0.5830136610037397\n",
            "['Jeei', 'Je', 'Jeeop', 'Jeelikhaeg', 'Jeeayarmadluam', 'Jee']\n",
            "Epoch:16 --> Loss:0.5830156246266016\n",
            "['Jeeme', 'Jeenpyep', 'Jeesecorescah', 'Jeerteyhhreldr', 'Jeeeprh', 'Jee']\n",
            "Epoch:17 --> Loss:0.5830167177865617\n",
            "['Jeeriemulitiah', 'Jeedyytlolgail', 'Jeepaltylat', 'Jeer', 'Jeeof', 'Je']\n",
            "Epoch:18 --> Loss:0.5830146682585667\n",
            "['Jeertattshensa', 'Jeeanizodal', 'Jeeeripy', 'Jeerun', 'Jeeemaratylons', 'Jeerrc']\n",
            "Epoch:19 --> Loss:0.5830140416506577\n",
            "['Jeeatya', 'Jeetrmwrocseza', 'Jeeisyaetonycy', 'Jeeydirold', 'Jeeterseys', 'Jeeostoeerhnnu']\n",
            "Epoch:20 --> Loss:0.5830134516773208\n",
            "['Jee', 'Jeedrociyoudyn', 'Jeehab', 'Jeenoitlat', 'Jeeipic', 'Jeeerctytoyert']\n",
            "Epoch:21 --> Loss:0.5830160686983471\n",
            "['Jeebiyetiaydsy', 'Jeemegitanytol', 'Jeenc', 'Jeesrckaltr', 'Jeeahy', 'Jeesom']\n",
            "Epoch:22 --> Loss:0.5830151430876802\n",
            "['Jeeuvo', 'Jeeorikaotutss', 'Jeeruthopsioel', 'Jee', 'Jeem', 'Jeemh']\n",
            "Epoch:23 --> Loss:0.583013638376504\n",
            "['Je', 'Jeeott', 'Jeee', 'Jeeelleil', 'Jeem', 'Jeedyynsa']\n",
            "Epoch:24 --> Loss:0.5830151035634826\n",
            "['Jeebidhyurabne', 'Jeenecaccoyn', 'Jeeopyaetaitas', 'Jeesuthn', 'Je', 'Jeeevalytlahin']\n",
            "Epoch:25 --> Loss:0.58301445726694\n",
            "['Jeeb', 'Jeei', 'Jeeuerynidnylo', 'Je', 'Jeee', 'Jeedatteroeiss']\n"
          ]
        }
      ]
    },
    {
      "cell_type": "code",
      "execution_count": 42,
      "metadata": {
        "colab": {
          "base_uri": "https://localhost:8080/",
          "height": 472
        },
        "id": "TxW4e3ztxkWS",
        "outputId": "5af39af5-8352-4bb4-e9ff-84f7cec82b73"
      },
      "outputs": [
        {
          "output_type": "display_data",
          "data": {
            "text/plain": [
              "<Figure size 640x480 with 1 Axes>"
            ],
            "image/png": "[encoded data removed]"
          },
          "metadata": {}
        }
      ],
      "source": [
        "plt.plot(epoch_losses, marker=\"o\", markersize=5)\n",
        "plt.title(\"Loss over Epoch\")\n",
        "plt.xlabel(\"Epochs\")\n",
        "plt.ylabel(\"Loss\")\n",
        "plt.show()"
      ]
    },
    {
      "cell_type": "code",
      "execution_count": 43,
      "metadata": {
        "id": "Ge8U-8NjxkWS"
      },
      "outputs": [],
      "source": [
        "# saving the trained model\n",
        "\n",
        "path = \"name_generator_LSTM.pth\"\n",
        "torch.save(model.state_dict(), path)"
      ]
    },
    {
      "cell_type": "code",
      "source": [
        "# Downloading the trained model\n",
        "\n",
        "from google.colab import files\n",
        "\n",
        "files.download(path)"
      ],
      "metadata": {
        "colab": {
          "base_uri": "https://localhost:8080/",
          "height": 17
        },
        "id": "KXgfw2r0Xz29",
        "outputId": "f4bda256-989a-4e4f-bd28-bff875fb6267"
      },
      "execution_count": 44,
      "outputs": [
        {
          "output_type": "display_data",
          "data": {
            "text/plain": [
              "<IPython.core.display.Javascript object>"
            ],
            "application/javascript": [
              "\n",
              "    async function download(id, filename, size) {\n",
              "      if (!google.colab.kernel.accessAllowed) {\n",
              "        return;\n",
              "      }\n",
              "      const div = document.createElement('div');\n",
              "      const label = document.createElement('label');\n",
              "      label.textContent = `Downloading \"${filename}\": `;\n",
              "      div.appendChild(label);\n",
              "      const progress = document.createElement('progress');\n",
              "      progress.max = size;\n",
              "      div.appendChild(progress);\n",
              "      document.body.appendChild(div);\n",
              "\n",
              "      const buffers = [];\n",
              "      let downloaded = 0;\n",
              "\n",
              "      const channel = await google.colab.kernel.comms.open(id);\n",
              "      // Send a message to notify the kernel that we're ready.\n",
              "      channel.send({})\n",
              "\n",
              "      for await (const message of channel.messages) {\n",
              "        // Send a message to notify the kernel that we're ready.\n",
              "        channel.send({})\n",
              "        if (message.buffers) {\n",
              "          for (const buffer of message.buffers) {\n",
              "            buffers.push(buffer);\n",
              "            downloaded += buffer.byteLength;\n",
              "            progress.value = downloaded;\n",
              "          }\n",
              "        }\n",
              "      }\n",
              "      const blob = new Blob(buffers, {type: 'application/binary'});\n",
              "      const a = document.createElement('a');\n",
              "      a.href = window.URL.createObjectURL(blob);\n",
              "      a.download = filename;\n",
              "      div.appendChild(a);\n",
              "      a.click();\n",
              "      div.remove();\n",
              "    }\n",
              "  "
            ]
          },
          "metadata": {}
        },
        {
          "output_type": "display_data",
          "data": {
            "text/plain": [
              "<IPython.core.display.Javascript object>"
            ],
            "application/javascript": [
              "download(\"download_e5efdbf8-3b6e-40ce-947c-133ba8cdff2e\", \"name_generator_LSTM.pth\", 73967)"
            ]
          },
          "metadata": {}
        }
      ]
    },
    {
      "cell_type": "markdown",
      "metadata": {
        "id": "wSzEHFPrxkWS"
      },
      "source": [
        "## Demo generating new names"
      ]
    },
    {
      "cell_type": "code",
      "execution_count": 45,
      "metadata": {
        "id": "aLku-c1axkWT"
      },
      "outputs": [],
      "source": [
        "# Loading saved model\n",
        "\n",
        "# path = \"classifier.pth\"\n",
        "# model = Model(input_size=num_chars, hidden_size=hidden_size, output_size=num_chars, num_layers=num_layers)\n",
        "# model = nn.DataParallel(model)\n",
        "# model.load_state_dict(torch.load(path))"
      ]
    },
    {
      "cell_type": "code",
      "execution_count": 46,
      "metadata": {
        "colab": {
          "base_uri": "https://localhost:8080/"
        },
        "id": "rRzoWMGUxkWT",
        "outputId": "2ca2193b-3e5d-4b6b-e7d8-e0e95271f9a2"
      },
      "outputs": [
        {
          "output_type": "stream",
          "name": "stdout",
          "text": [
            "['Jemiamahis', 'Jepidolesto', 'Jelnet', 'Jeifran', 'Jenal', 'Jeryn', 'Jemetyersop', 'Jedrynneshuan', 'Jefriketae', 'Jemasoth', 'Jearo']\n"
          ]
        }
      ],
      "source": [
        "names = sample_names(model, start='je', n=10, k=5, only_new=True)\n",
        "print(names)"
      ]
    },
    {
      "cell_type": "code",
      "source": [
        "generate_name(model)"
      ],
      "metadata": {
        "colab": {
          "base_uri": "https://localhost:8080/",
          "height": 36
        },
        "id": "u6MiwOogeAKH",
        "outputId": "273d4b7d-adb8-4009-f1f3-9a8b31255deb"
      },
      "execution_count": 47,
      "outputs": [
        {
          "output_type": "execute_result",
          "data": {
            "text/plain": [
              "'jceathiceantot.'"
            ],
            "application/vnd.google.colaboratory.intrinsic+json": {
              "type": "string"
            }
          },
          "metadata": {},
          "execution_count": 47
        }
      ]
    },
    {
      "cell_type": "markdown",
      "source": [
        "# EOF"
      ],
      "metadata": {
        "id": "iwHOEgCjd585"
      }
    }
  ],
  "metadata": {
    "kernelspec": {
      "display_name": "Python 3",
      "language": "python",
      "name": "python3"
    },
    "language_info": {
      "codemirror_mode": {
        "name": "ipython",
        "version": 3
      },
      "file_extension": ".py",
      "mimetype": "text/x-python",
      "name": "python",
      "nbconvert_exporter": "python",
      "pygments_lexer": "ipython3",
      "version": "3.6.6"
    },
    "colab": {
      "provenance": []
    },
    "accelerator": "GPU",
    "gpuClass": "standard"
  },
  "nbformat": 4,
  "nbformat_minor": 0
}